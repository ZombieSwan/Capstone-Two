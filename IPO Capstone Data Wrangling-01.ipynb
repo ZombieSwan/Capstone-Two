{
 "cells": [
  {
   "cell_type": "code",
   "execution_count": 1,
   "id": "b8d88a37",
   "metadata": {},
   "outputs": [],
   "source": [
    "import numpy as np\n",
    "import pandas as pd \n",
    "import matplotlib.pyplot as plt\n",
    "import seaborn as sns\n",
    "import yfinance as yf\n",
    "import requests\n",
    "import random\n"
   ]
  },
  {
   "cell_type": "code",
   "execution_count": 2,
   "id": "b698bc41",
   "metadata": {},
   "outputs": [],
   "source": [
    "ipo_age = pd.read_excel(\"C:/Users/restr/Documents/Springboard/Capstone project 2/IPO Project/IPO-age.xlsx\")\n",
    "company_ipo = pd.read_csv(\"C:/Users/restr/Documents/Springboard/Capstone project 2/IPO Project/company_ipo.csv\")"
   ]
  },
  {
   "cell_type": "code",
   "execution_count": 3,
   "id": "6da1c79b",
   "metadata": {},
   "outputs": [
    {
     "name": "stdout",
     "output_type": "stream",
     "text": [
      "IPO Age Data:\n",
      "   Offer date             IPO name Ticker     CUSIP Rollup   VC Dual  \\\n",
      "0         NaN                  NaN    NaN       NaN    NaN  NaN  NaN   \n",
      "1  19750130.0              ROYSTER    NaN  78088610      .    0    0   \n",
      "2  19750609.0                VARCO    VRC  92212610      .    0    0   \n",
      "3  19750610.0         COORS ADOLPH    TAP  21701610      .    0    1   \n",
      "4  19750715.0  KEYSTONE FOODS CORP    NaN  49348410      .    0    0   \n",
      "\n",
      "  PostIssueShares Internet CRSP permanent ID  Founding  Unnamed: 11  \\\n",
      "0             NaN      NaN               NaN       NaN          NaN   \n",
      "1               .        0             67898    1901.0          NaN   \n",
      "2               .        0             63044    1908.0          NaN   \n",
      "3        35418915        0             59248    1901.0          NaN   \n",
      "4               .        0             61989    1965.0          NaN   \n",
      "\n",
      "                                         Unnamed: 12 Unnamed: 13  \n",
      "0          N=13,945 U.S. IPOs from Jan 1975-Dec 2022         NaN  \n",
      "1                                                NaN         NaN  \n",
      "2  Rollup is a 0-1 dummy variable for whether the...         NaN  \n",
      "3  VC is a dummy with 1 for VC and 2 for a subset...         NaN  \n",
      "4      Dual is a dummy for multiple share class IPOs         NaN  \n"
     ]
    }
   ],
   "source": [
    "# Print out the first few rows of each dataframe to check it's loaded correctly\n",
    "print(\"IPO Age Data:\")\n",
    "print(ipo_age.head())"
   ]
  },
  {
   "cell_type": "code",
   "execution_count": 4,
   "id": "43c5f847",
   "metadata": {},
   "outputs": [
    {
     "name": "stdout",
     "output_type": "stream",
     "text": [
      "\n",
      "Company IPO Data:\n",
      "   ID      IPO Date Symbol                    Company Name IPO Price Current  \\\n",
      "0   1  Dec 21, 2021   NVAC           NorthView Acquisition    $10.00  $10.03   \n",
      "1   2  Dec 21, 2021   LSPR     Larkspur Health Acquisition    $10.00   $9.98   \n",
      "2   3  Dec 21, 2021   SAGA            Sagaliam Acquisition    $10.00   $9.97   \n",
      "3   4  Dec 17, 2021   RCAC  Revelstone Capital Acquisition    $10.00   $9.90   \n",
      "4   5  Dec 17, 2021   APCA                  AP Acquisition    $10.00  $10.11   \n",
      "\n",
      "   Return  \n",
      "0   0.30%  \n",
      "1  -0.20%  \n",
      "2  -0.30%  \n",
      "3  -1.00%  \n",
      "4   1.10%  \n"
     ]
    }
   ],
   "source": [
    "print(\"\\nCompany IPO Data:\")\n",
    "print(company_ipo.head())"
   ]
  },
  {
   "cell_type": "code",
   "execution_count": 5,
   "id": "cff9af64",
   "metadata": {},
   "outputs": [
    {
     "name": "stdout",
     "output_type": "stream",
     "text": [
      "Offer date           float64\n",
      "IPO name              object\n",
      "Ticker                object\n",
      "CUSIP                 object\n",
      "Rollup                object\n",
      "VC                    object\n",
      "Dual                  object\n",
      "PostIssueShares       object\n",
      "Internet              object\n",
      "CRSP permanent ID     object\n",
      "Founding             float64\n",
      "Unnamed: 11          float64\n",
      "Unnamed: 12           object\n",
      "Unnamed: 13           object\n",
      "dtype: object\n"
     ]
    }
   ],
   "source": [
    "# Data types\n",
    "print(ipo_age.dtypes)"
   ]
  },
  {
   "cell_type": "code",
   "execution_count": 6,
   "id": "b65aeace",
   "metadata": {},
   "outputs": [
    {
     "name": "stdout",
     "output_type": "stream",
     "text": [
      "ID               int64\n",
      "IPO Date        object\n",
      "Symbol          object\n",
      "Company Name    object\n",
      "IPO Price       object\n",
      "Current         object\n",
      "Return          object\n",
      "dtype: object\n"
     ]
    }
   ],
   "source": [
    "print(company_ipo.dtypes)"
   ]
  },
  {
   "cell_type": "code",
   "execution_count": 7,
   "id": "8ac81499",
   "metadata": {},
   "outputs": [
    {
     "name": "stdout",
     "output_type": "stream",
     "text": [
      "         Offer date      Founding  Unnamed: 11\n",
      "count  1.394500e+04  13945.000000          0.0\n",
      "mean   1.997482e+07   1652.747293          NaN\n",
      "std    1.113588e+05    759.743699          NaN\n",
      "min    1.975013e+07    -99.000000          NaN\n",
      "25%    1.989033e+07   1956.000000          NaN\n",
      "50%    1.996020e+07   1983.000000          NaN\n",
      "75%    2.004112e+07   1994.000000          NaN\n",
      "max    2.022123e+07   2021.000000          NaN\n"
     ]
    }
   ],
   "source": [
    "# Summary statistics\n",
    "print(ipo_age.describe())"
   ]
  },
  {
   "cell_type": "code",
   "execution_count": 8,
   "id": "c60febbc",
   "metadata": {},
   "outputs": [
    {
     "name": "stdout",
     "output_type": "stream",
     "text": [
      "               ID\n",
      "count  1765.00000\n",
      "mean    883.00000\n",
      "std     509.65593\n",
      "min       1.00000\n",
      "25%     442.00000\n",
      "50%     883.00000\n",
      "75%    1324.00000\n",
      "max    1765.00000\n"
     ]
    }
   ],
   "source": [
    "print(company_ipo.describe())"
   ]
  },
  {
   "cell_type": "code",
   "execution_count": 9,
   "id": "c0fbd39a",
   "metadata": {},
   "outputs": [
    {
     "name": "stdout",
     "output_type": "stream",
     "text": [
      "Ticker\n",
      "TEMPA    5\n",
      "SHOE     4\n",
      "SNOW     4\n",
      "OPEN     4\n",
      "DERM     4\n",
      "        ..\n",
      "CEGE     1\n",
      "DPS      1\n",
      "PTB      1\n",
      "SHMN     1\n",
      "COYA     1\n",
      "Name: count, Length: 12343, dtype: int64\n"
     ]
    }
   ],
   "source": [
    "# Counts of unique values\n",
    "print(ipo_age['Ticker'].value_counts())"
   ]
  },
  {
   "cell_type": "markdown",
   "id": "37cca4a2",
   "metadata": {},
   "source": [
    "### Removing unnecessary rows and columns: \n",
    "Above, we saw that the first row of the DataFrame is empty and should be removed. The last three columns ('Unnamed: 11', 'Unnamed: 12', 'Unnamed: 13') are mostly filled with NaN values and instruction of the excel spreadsheet, which can also be removed. "
   ]
  },
  {
   "cell_type": "code",
   "execution_count": 10,
   "id": "437dec69",
   "metadata": {
    "scrolled": true
   },
   "outputs": [
    {
     "name": "stdout",
     "output_type": "stream",
     "text": [
      "   Offer date             IPO name Ticker     CUSIP Rollup VC Dual  \\\n",
      "1  19750130.0              ROYSTER    NaN  78088610      .  0    0   \n",
      "2  19750609.0                VARCO    VRC  92212610      .  0    0   \n",
      "3  19750610.0         COORS ADOLPH    TAP  21701610      .  0    1   \n",
      "4  19750715.0  KEYSTONE FOODS CORP    NaN  49348410      .  0    0   \n",
      "5  19750826.0          C. F. BRAUN    NaN  10564710      .  0    0   \n",
      "\n",
      "  PostIssueShares Internet CRSP permanent ID  Founding  \n",
      "1               .        0             67898    1901.0  \n",
      "2               .        0             63044    1908.0  \n",
      "3        35418915        0             59248    1901.0  \n",
      "4               .        0             61989    1965.0  \n",
      "5               .        0             58579    1909.0  \n"
     ]
    }
   ],
   "source": [
    "# Drop the first row\n",
    "ipo_age = ipo_age.iloc[1:]\n",
    "\n",
    "# Drop the last three columns\n",
    "ipo_age = ipo_age.drop(columns=['Unnamed: 11', 'Unnamed: 12', 'Unnamed: 13'])\n",
    "\n",
    "print(ipo_age.head())"
   ]
  },
  {
   "cell_type": "markdown",
   "id": "6ca396f1",
   "metadata": {},
   "source": [
    "### Converting data types: \n",
    "Above we saw that 'Offer date' and 'Founding' columns are in a float format, even though they should be dates. We'll need to convert these columns."
   ]
  },
  {
   "cell_type": "code",
   "execution_count": 11,
   "id": "fee3778c",
   "metadata": {},
   "outputs": [
    {
     "name": "stdout",
     "output_type": "stream",
     "text": [
      "  Offer date             IPO name Ticker     CUSIP Rollup VC Dual  \\\n",
      "1 1975-01-30              ROYSTER    NaN  78088610      .  0    0   \n",
      "2 1975-06-09                VARCO    VRC  92212610      .  0    0   \n",
      "3 1975-06-10         COORS ADOLPH    TAP  21701610      .  0    1   \n",
      "4 1975-07-15  KEYSTONE FOODS CORP    NaN  49348410      .  0    0   \n",
      "5 1975-08-26          C. F. BRAUN    NaN  10564710      .  0    0   \n",
      "\n",
      "  PostIssueShares Internet CRSP permanent ID   Founding  \n",
      "1               .        0             67898 1901-01-01  \n",
      "2               .        0             63044 1908-01-01  \n",
      "3        35418915        0             59248 1901-01-01  \n",
      "4               .        0             61989 1965-01-01  \n",
      "5               .        0             58579 1909-01-01  \n"
     ]
    }
   ],
   "source": [
    "# Convert 'Offer date' and 'Founding' to datetime format\n",
    "ipo_age['Offer date'] = pd.to_datetime(ipo_age['Offer date'], format='%Y%m%d')\n",
    "ipo_age['Founding'] = pd.to_datetime(ipo_age['Founding'], format='%Y', errors = 'coerce')\n",
    "\n",
    "print(ipo_age.head())"
   ]
  },
  {
   "cell_type": "markdown",
   "id": "ec4f463b",
   "metadata": {},
   "source": [
    "In 'company_ipo' we need the 'IPO Date' column in datetime format."
   ]
  },
  {
   "cell_type": "code",
   "execution_count": 12,
   "id": "b4032977",
   "metadata": {},
   "outputs": [],
   "source": [
    "# Convert 'IPO Date' to datetime format\n",
    "company_ipo['IPO Date'] = pd.to_datetime(company_ipo['IPO Date'])"
   ]
  },
  {
   "cell_type": "markdown",
   "id": "52d51a16",
   "metadata": {},
   "source": [
    "### Handling missing values 'ipo_age': \n",
    "The 'Ticker' column has a lot of missing values (NaN). In this case, we will drop these rows since the ticker is a unique identifier for a company."
   ]
  },
  {
   "cell_type": "code",
   "execution_count": 13,
   "id": "547d8fa4",
   "metadata": {},
   "outputs": [],
   "source": [
    "# Drop rows where 'Ticker' is missing\n",
    "ipo_age = ipo_age.dropna(subset=['Ticker'])"
   ]
  },
  {
   "cell_type": "markdown",
   "id": "3d5bc3c4",
   "metadata": {},
   "source": [
    "From the summary statistics, it seems like the 'Founding' column contains a value of '-99', which likely indicates missing data. We'll replace with NaN."
   ]
  },
  {
   "cell_type": "code",
   "execution_count": 14,
   "id": "870a4935",
   "metadata": {},
   "outputs": [],
   "source": [
    "# Replace '-99' with 'NaN' in 'Founding' column\n",
    "ipo_age['Founding'] = ipo_age['Founding'].replace('-99', pd.NA)"
   ]
  },
  {
   "cell_type": "markdown",
   "id": "df521ee6",
   "metadata": {},
   "source": [
    "The VC (Venture Capital) Column: this column uses '.' and '9' to represent missing values. We'll replace these with NaN, and keep the valid values 0, 1, and 2."
   ]
  },
  {
   "cell_type": "code",
   "execution_count": 15,
   "id": "44203356",
   "metadata": {},
   "outputs": [],
   "source": [
    "ipo_age['VC'] = pd.to_numeric(ipo_age['VC'].replace(['.', '9', 9], np.nan), errors='coerce')"
   ]
  },
  {
   "cell_type": "markdown",
   "id": "a4e8bbd2",
   "metadata": {},
   "source": [
    "Dual Column: The 'Dual' column uses '.' and '9' to represent missing values as well. We'll handle this in the same way as we did for the 'VC' column."
   ]
  },
  {
   "cell_type": "code",
   "execution_count": 16,
   "id": "50edbe01",
   "metadata": {},
   "outputs": [],
   "source": [
    "ipo_age['Dual'] = pd.to_numeric(ipo_age['Dual'].replace(['.', '9', 9], np.nan), errors='coerce')"
   ]
  },
  {
   "cell_type": "markdown",
   "id": "91484c8f",
   "metadata": {},
   "source": [
    "PostIssueShares Column: This column uses '-9' and '.' to represent missing values. In addition, this column also contains some '0' values. For now we will assume '0' is a valid number."
   ]
  },
  {
   "cell_type": "code",
   "execution_count": 17,
   "id": "9d9e7d59",
   "metadata": {},
   "outputs": [],
   "source": [
    "ipo_age['PostIssueShares'] = pd.to_numeric(ipo_age['PostIssueShares'].replace(['.', '-9', -9], np.nan), errors='coerce')"
   ]
  },
  {
   "cell_type": "markdown",
   "id": "3d5aeda3",
   "metadata": {},
   "source": [
    "Internet Column: This column uses '.' to represent missing values, and '0' presumably represents non-internet-based companies. We'll replace '.' with NaN and keep '0'."
   ]
  },
  {
   "cell_type": "code",
   "execution_count": 18,
   "id": "8e305c5e",
   "metadata": {},
   "outputs": [],
   "source": [
    "ipo_age['Internet'] = pd.to_numeric(ipo_age['Internet'].replace(['.', '9', 9], np.nan), errors='coerce')"
   ]
  },
  {
   "cell_type": "code",
   "execution_count": 19,
   "id": "47c27172",
   "metadata": {},
   "outputs": [
    {
     "name": "stdout",
     "output_type": "stream",
     "text": [
      "   Offer date                IPO name Ticker     CUSIP Rollup   VC  Dual  \\\n",
      "2  1975-06-09                   VARCO    VRC  92212610      .  0.0   0.0   \n",
      "3  1975-06-10            COORS ADOLPH    TAP  21701610      .  0.0   1.0   \n",
      "8  1975-10-21  KERR GLASS MANUFACTURI    KGM  49237610      .  0.0   0.0   \n",
      "9  1975-10-28              LIQUID AIR   LANA  53631510      .  0.0   0.0   \n",
      "10 1975-10-30   OCEANEERING INTERNATL    OII  67523210      .  NaN   NaN   \n",
      "\n",
      "    PostIssueShares  Internet CRSP permanent ID   Founding  \n",
      "2               NaN       0.0             63044 1908-01-01  \n",
      "3        35418915.0       0.0             59248 1901-01-01  \n",
      "8               NaN       0.0             58616 1903-01-01  \n",
      "9               NaN       0.0             49825 1965-01-01  \n",
      "10              NaN       0.0             58975 1965-01-01  \n"
     ]
    }
   ],
   "source": [
    "print(ipo_age.head())"
   ]
  },
  {
   "cell_type": "code",
   "execution_count": 20,
   "id": "2e7cc61a",
   "metadata": {},
   "outputs": [
    {
     "data": {
      "text/plain": [
       "Offer date               0\n",
       "IPO name                 0\n",
       "Ticker                   0\n",
       "CUSIP                   65\n",
       "Rollup                   0\n",
       "VC                      27\n",
       "Dual                    99\n",
       "PostIssueShares      11884\n",
       "Internet                29\n",
       "CRSP permanent ID        0\n",
       "Founding              1869\n",
       "dtype: int64"
      ]
     },
     "execution_count": 20,
     "metadata": {},
     "output_type": "execute_result"
    }
   ],
   "source": [
    "ipo_age.isnull().sum()"
   ]
  },
  {
   "cell_type": "code",
   "execution_count": 21,
   "id": "0b526e68",
   "metadata": {},
   "outputs": [
    {
     "name": "stdout",
     "output_type": "stream",
     "text": [
      "0\n"
     ]
    }
   ],
   "source": [
    "print(ipo_age.duplicated().sum())"
   ]
  },
  {
   "cell_type": "code",
   "execution_count": 22,
   "id": "49f4c770",
   "metadata": {},
   "outputs": [
    {
     "name": "stdout",
     "output_type": "stream",
     "text": [
      "[ 0. nan  1.  2.]\n",
      "[ 0.  1. nan  2.]\n",
      "[           nan 3.54189150e+07 1.95238100e+06 ... 7.95761905e+08\n",
      " 3.80000000e+07 3.91219000e+08]\n",
      "[ 0.  1. nan]\n"
     ]
    }
   ],
   "source": [
    "print(ipo_age['VC'].unique())\n",
    "print(ipo_age['Dual'].unique())\n",
    "print(ipo_age['PostIssueShares'].unique())\n",
    "print(ipo_age['Internet'].unique())"
   ]
  },
  {
   "cell_type": "code",
   "execution_count": 23,
   "id": "05c708cb",
   "metadata": {},
   "outputs": [
    {
     "name": "stdout",
     "output_type": "stream",
     "text": [
      "                          Offer date            VC          Dual  \\\n",
      "count                          13549  13522.000000  13450.000000   \n",
      "mean   1998-03-27 04:03:16.619676800      0.337746      0.119554   \n",
      "min              1975-06-09 00:00:00      0.000000      0.000000   \n",
      "25%              1989-12-14 00:00:00      0.000000      0.000000   \n",
      "50%              1996-04-09 00:00:00      0.000000      0.000000   \n",
      "75%              2005-03-28 00:00:00      1.000000      0.000000   \n",
      "max              2022-12-29 00:00:00      2.000000      2.000000   \n",
      "std                              NaN      0.541763      0.324909   \n",
      "\n",
      "       PostIssueShares      Internet                       Founding  \n",
      "count     1.665000e+03  13520.000000                          11680  \n",
      "mean      1.646568e+08      0.064867  1981-12-26 01:55:46.027397248  \n",
      "min       0.000000e+00      0.000000            1783-01-01 00:00:00  \n",
      "25%       1.098293e+07      0.000000            1976-01-01 00:00:00  \n",
      "50%       3.291620e+07      0.000000            1986-01-01 00:00:00  \n",
      "75%       1.065000e+08      0.000000            1996-01-01 00:00:00  \n",
      "max       2.171691e+10      1.000000            2021-01-01 00:00:00  \n",
      "std       7.069354e+08      0.246300                            NaN  \n"
     ]
    }
   ],
   "source": [
    "print(ipo_age.describe())"
   ]
  },
  {
   "cell_type": "markdown",
   "id": "38152ba3",
   "metadata": {},
   "source": [
    "### Filtering data: \n",
    "Since we only have data of the offer price for IPOs from 2019-2020, we should filter the DataFrame accordingly."
   ]
  },
  {
   "cell_type": "code",
   "execution_count": 24,
   "id": "b7a7ef2d",
   "metadata": {},
   "outputs": [
    {
     "name": "stdout",
     "output_type": "stream",
     "text": [
      "      Offer date                   IPO name Ticker      CUSIP Rollup   VC  \\\n",
      "13044 2019-01-04       China Sxt Pharms Inc   SXTC  G2161P108      0  0.0   \n",
      "13045 2019-01-08                   Mdjm Ltd   MDJH  G59290109      0  0.0   \n",
      "13046 2019-01-09  1895 Bancorp of Wisconsin   BCOW  28252W105      .  0.0   \n",
      "13047 2019-01-09                  Mmtec Inc    MTC   G6181K10      0  0.0   \n",
      "13048 2019-01-17          Rhinebeck Bancorp   RBKB  762093102      .  0.0   \n",
      "\n",
      "       Dual  PostIssueShares  Internet CRSP permanent ID   Founding  \n",
      "13044   0.0              NaN       0.0             18372 2006-01-01  \n",
      "13045   0.0              NaN       0.0             18364 2014-01-01  \n",
      "13046   0.0              NaN       0.0             18356 1995-01-01  \n",
      "13047   0.0              NaN       0.0             18365 1956-01-01  \n",
      "13048   0.0              NaN       0.0             18369 1960-01-01  \n"
     ]
    }
   ],
   "source": [
    "# Filter for IPOs from 2019-2020\n",
    "ipo_age = ipo_age[(ipo_age['Offer date'].dt.year >= 2019) & (ipo_age['Offer date'].dt.year <= 2020)]\n",
    "\n",
    "print(ipo_age.head())"
   ]
  },
  {
   "cell_type": "markdown",
   "id": "89f33625",
   "metadata": {},
   "source": [
    "### Handling missing values 'company_ipo': \n",
    "Converting currency to numeric: The 'IPO Price' and 'Current' columns are currently strings because of the $ sign. Remove the dollar sign and convert the columns to a numeric format."
   ]
  },
  {
   "cell_type": "code",
   "execution_count": 25,
   "id": "f9c517c8",
   "metadata": {},
   "outputs": [],
   "source": [
    "# Remove dollar sign and convert 'IPO Price' and 'Current' to numeric\n",
    "company_ipo['IPO Price'] = pd.to_numeric(company_ipo['IPO Price'].str.replace('$', ''))\n",
    "company_ipo['Current'] = pd.to_numeric(company_ipo['Current'].str.replace('$', ''))"
   ]
  },
  {
   "cell_type": "code",
   "execution_count": 26,
   "id": "fb7bbd8b",
   "metadata": {},
   "outputs": [
    {
     "name": "stdout",
     "output_type": "stream",
     "text": [
      "   ID   IPO Date Symbol                    Company Name  IPO Price  Current  \\\n",
      "0   1 2021-12-21   NVAC           NorthView Acquisition       10.0    10.03   \n",
      "1   2 2021-12-21   LSPR     Larkspur Health Acquisition       10.0     9.98   \n",
      "2   3 2021-12-21   SAGA            Sagaliam Acquisition       10.0     9.97   \n",
      "3   4 2021-12-17   RCAC  Revelstone Capital Acquisition       10.0     9.90   \n",
      "4   5 2021-12-17   APCA                  AP Acquisition       10.0    10.11   \n",
      "\n",
      "   Return  \n",
      "0   0.30%  \n",
      "1  -0.20%  \n",
      "2  -0.30%  \n",
      "3  -1.00%  \n",
      "4   1.10%  \n"
     ]
    }
   ],
   "source": [
    "print(company_ipo.head())"
   ]
  },
  {
   "cell_type": "markdown",
   "id": "4655dbe6",
   "metadata": {},
   "source": [
    "Converting percentage to numeric: The 'Return' column should also be converted to a numeric format by removing the '%' symbol and dividing by 100."
   ]
  },
  {
   "cell_type": "code",
   "execution_count": 27,
   "id": "d9ca22e4",
   "metadata": {},
   "outputs": [],
   "source": [
    "# Remove '%' and convert 'Return' to numeric\n",
    "company_ipo['Return'] = pd.to_numeric(company_ipo['Return'].str.replace('%', ''))/100"
   ]
  },
  {
   "cell_type": "code",
   "execution_count": 28,
   "id": "b79c17e5",
   "metadata": {},
   "outputs": [
    {
     "name": "stdout",
     "output_type": "stream",
     "text": [
      "   ID   IPO Date Symbol                    Company Name  IPO Price  Current  \\\n",
      "0   1 2021-12-21   NVAC           NorthView Acquisition       10.0    10.03   \n",
      "1   2 2021-12-21   LSPR     Larkspur Health Acquisition       10.0     9.98   \n",
      "2   3 2021-12-21   SAGA            Sagaliam Acquisition       10.0     9.97   \n",
      "3   4 2021-12-17   RCAC  Revelstone Capital Acquisition       10.0     9.90   \n",
      "4   5 2021-12-17   APCA                  AP Acquisition       10.0    10.11   \n",
      "\n",
      "   Return  \n",
      "0   0.003  \n",
      "1  -0.002  \n",
      "2  -0.003  \n",
      "3  -0.010  \n",
      "4   0.011  \n"
     ]
    }
   ],
   "source": [
    "print(company_ipo.head())"
   ]
  },
  {
   "cell_type": "markdown",
   "id": "1332e1ab",
   "metadata": {},
   "source": [
    "We will rename 'Symbol' to 'Ticker' to be consistent with the ipo_age dataframe, so it will be easy to merge on this column."
   ]
  },
  {
   "cell_type": "code",
   "execution_count": 29,
   "id": "7dfc0260",
   "metadata": {},
   "outputs": [],
   "source": [
    "# Rename 'Symbol' to 'Ticker'\n",
    "company_ipo = company_ipo.rename(columns={'Symbol': 'Ticker'})"
   ]
  },
  {
   "cell_type": "code",
   "execution_count": 30,
   "id": "021a1e85",
   "metadata": {},
   "outputs": [
    {
     "name": "stdout",
     "output_type": "stream",
     "text": [
      "   ID   IPO Date Ticker                    Company Name  IPO Price  Current  \\\n",
      "0   1 2021-12-21   NVAC           NorthView Acquisition       10.0    10.03   \n",
      "1   2 2021-12-21   LSPR     Larkspur Health Acquisition       10.0     9.98   \n",
      "2   3 2021-12-21   SAGA            Sagaliam Acquisition       10.0     9.97   \n",
      "3   4 2021-12-17   RCAC  Revelstone Capital Acquisition       10.0     9.90   \n",
      "4   5 2021-12-17   APCA                  AP Acquisition       10.0    10.11   \n",
      "\n",
      "   Return  \n",
      "0   0.003  \n",
      "1  -0.002  \n",
      "2  -0.003  \n",
      "3  -0.010  \n",
      "4   0.011  \n"
     ]
    }
   ],
   "source": [
    "print(company_ipo.head())"
   ]
  },
  {
   "cell_type": "markdown",
   "id": "e4b4ae70",
   "metadata": {},
   "source": [
    "Looking at the unique values in the 'Ticker' and 'IPO Date'/'Offer date' columns from both dataframes is a good way to understand the data before merging. We will also on thier counts using nunique()"
   ]
  },
  {
   "cell_type": "code",
   "execution_count": 31,
   "id": "ede190b7",
   "metadata": {},
   "outputs": [
    {
     "name": "stdout",
     "output_type": "stream",
     "text": [
      "['NVAC' 'LSPR' 'SAGA' ... 'MDJH' 'MTC' 'SXTC']\n",
      "<DatetimeArray>\n",
      "['2021-12-21 00:00:00', '2021-12-17 00:00:00', '2021-12-16 00:00:00',\n",
      " '2021-12-15 00:00:00', '2021-12-14 00:00:00', '2021-12-13 00:00:00',\n",
      " '2021-12-10 00:00:00', '2021-12-09 00:00:00', '2021-12-08 00:00:00',\n",
      " '2021-12-07 00:00:00',\n",
      " ...\n",
      " '2019-02-12 00:00:00', '2019-02-08 00:00:00', '2019-02-07 00:00:00',\n",
      " '2019-02-04 00:00:00', '2019-02-01 00:00:00', '2019-01-31 00:00:00',\n",
      " '2019-01-17 00:00:00', '2019-01-09 00:00:00', '2019-01-08 00:00:00',\n",
      " '2019-01-04 00:00:00']\n",
      "Length: 437, dtype: datetime64[ns]\n",
      "['SXTC' 'MDJH' 'BCOW' 'MTC' 'RBKB' 'NRGX' 'NFE' 'INMB' 'ALEC' 'GOSS'\n",
      " 'HARP' 'IMAC' 'AVDR' 'TCRR' 'HOTH' 'SOLY' 'MITO' 'SLGG' 'KLDO' 'SWAV'\n",
      " 'FHL' 'TIGR' 'LEVI' 'TEAF' 'DTIL' 'WTRE' 'LYFT' 'PUYI' 'PBTS' 'RUHN'\n",
      " 'NGM' 'SILK' 'TW' 'GHSI' 'PD' 'TUFN' 'PLMR' 'TPTX' 'MNRL' 'GNLN' 'HOOK'\n",
      " 'PINS' 'ZM' 'WAFU' 'BYND' 'SY' 'TMDX' 'ATIF' 'RRBI' 'SCPL' 'YJ' 'TRVI'\n",
      " 'PSN' 'AXLA' 'CRTX' 'HHR' 'MEC' 'MIST' 'NXTC' 'SPFI' 'JFIN' 'SONM' 'UBER'\n",
      " 'APLT' 'PSTL' 'AVTR' 'FSLY' 'LK' 'BCYC' 'IDYA' 'RTLR' 'GSX' 'RVLV' 'CRWD'\n",
      " 'MWK' 'FVRR' 'CHWY' 'STOK' 'AKRO' 'BCEL' 'GO' 'PSNL' 'PRVL' 'WORK' 'BSTZ'\n",
      " 'CMBM' 'ADPT' 'BBIO' 'CHNG' 'MORF' 'KRTX' 'REAL' 'DOYU' 'AMK' 'FULC'\n",
      " 'MIRM' 'ORCC' 'PHR' 'AFYA' 'MDLA' 'EIC' 'CSTL' 'HCAT' 'LVGO' 'PROS'\n",
      " 'NOVA' 'BHAT' 'WSG' 'DT' 'KRUS' 'SNDL' 'HKIB' 'INMD' 'JFG' 'CFB' 'TXG'\n",
      " 'SDC' 'NET' 'STSA' 'SWTX' 'NVST' 'IGMS' 'DDOG' 'XGN' 'PING' 'OPRT' 'PTON'\n",
      " 'APRE' 'FREQ' 'VIE' 'BNTX' 'HBT' 'VIR' 'BRBR' 'BRP' 'AIH' 'CABA' 'HAPP'\n",
      " 'PHAT' 'PGNY' 'TFFP' 'DAO' 'AIO' 'OYST' 'RAPT' 'DUO' 'QK' 'CNTG' 'GRTX'\n",
      " 'SI' 'KRKR' 'CNSP' 'MOHO' 'TELA' 'ETNB' 'YAYO' 'CAN' 'SITM' 'PINE' 'CPZ'\n",
      " 'LMPX' 'XP' 'BILL' 'EH' 'OCFT' 'SPT' 'INDO' 'MNPR' 'MKD' 'IMAB' 'LIZI'\n",
      " 'DNK' 'VEL' 'ANVS' 'BMEZ' 'ANPC' 'BDTX' 'ONEM' 'ARQT' 'REYN' 'BEAM'\n",
      " 'CSPR' 'PPD' 'SDGR' 'NREF' 'ONEW' 'HUIZ' 'GRIL' 'RVMD' 'ZCMD' 'DLY'\n",
      " 'PASG' 'GFL' 'IMRA' 'WIMI' 'ZNTL' 'KROS' 'ORIC' 'LYRA' 'AYLA' 'CLEU' 'KC'\n",
      " 'ADCT' 'SLQT' 'NARI' 'PLRX' 'WMG' 'ZI' 'AMTI' 'DADA' 'LEGN' 'FOUR' 'VRM'\n",
      " 'UCL' 'LTRN' 'AZEK' 'RNA' 'BNR' 'GBIO' 'PCVX' 'RPRX' 'FMTX' 'GTH' 'PROG'\n",
      " 'RPTX' 'API' 'AKUS' 'ACI' 'DYFN' 'EBON' 'FUSN' 'PYPD' 'ADTX' 'DNB' 'ACCD'\n",
      " 'LMND' 'BLCT' 'NKTX' 'PSTX' 'QH' 'NCNO' 'GOCO' 'RLAY' 'TIG' 'ALXO' 'BLI'\n",
      " 'PAND' 'JAMF' 'EDTK' 'ANNX' 'INZY' 'NRIX' 'ITOS' 'VERX' 'ALVR' 'LI'\n",
      " 'GOED' 'FTHM' 'VSTA' 'VITL' 'BIGC' 'RXT' 'AFIB' 'OSH' 'RKT' 'CMPI' 'FRLN'\n",
      " 'IBEX' 'KBNT' 'BEKE' 'NTST' 'CVAC' 'DCT' 'HRMY' 'INBX' 'KYMR' 'NNOX'\n",
      " 'XPEV' 'HCDI' 'AUVI' 'PRFX' 'OM' 'FROG' 'MTCR' 'SNOW' 'STEP' 'AMWL' 'BNL'\n",
      " 'DYN' 'PTVE' 'SUMO' 'ATHA' 'CMPS' 'U' 'VTRU' 'BSY' 'CRSR' 'GDRX' 'LSF'\n",
      " 'TSHA' 'AMST' 'BCAT' 'GRAY' 'GLSI' 'PMVP' 'PRLD' 'VIAO' 'ASAN' 'BQ' 'CD'\n",
      " 'PLTR' 'YALA' 'LXEH' 'AVO' 'LUNG' 'THRY' 'ASO' 'CCCC' 'IMNM' 'ONCR'\n",
      " 'SQFT' 'AZYO' 'FUBO' 'KRON' 'STTK' 'SPRB' 'IH' 'CDAK' 'ARRY' 'MNSO'\n",
      " 'ALGS' 'EAR' 'KRBP' 'PRAX' 'TARS' 'MSP' 'YGMZ' 'GHLD' 'MCFE' 'FHTX'\n",
      " 'BDSX' 'GATO' 'MAX' 'ROOT' 'ALGM' 'GLTO' 'LESL' 'AVIR' 'JUPW' 'LU' 'SQZ'\n",
      " 'NGMS' 'OLMA' 'TLS' 'YSG' 'MRVI' 'SHC' 'HFEN' 'OZON' 'VMAR' 'SDHY' 'KNTE'\n",
      " 'YQ' 'SEER' 'SGTX' 'SBTX' 'AI' 'DASH' 'PUBM' 'ABNB' 'HYFM' 'FDMT' 'ABCL'\n",
      " 'CERT' 'VVOS' 'OCG' 'WNW' 'BCAB' 'WISH' 'SCPS' 'UPST' 'VIRI' 'MASS' 'GBS'\n",
      " 'IKT' 'MRM']\n",
      "<DatetimeArray>\n",
      "['2019-01-04 00:00:00', '2019-01-08 00:00:00', '2019-01-09 00:00:00',\n",
      " '2019-01-17 00:00:00', '2019-01-30 00:00:00', '2019-01-31 00:00:00',\n",
      " '2019-02-04 00:00:00', '2019-02-07 00:00:00', '2019-02-08 00:00:00',\n",
      " '2019-02-13 00:00:00',\n",
      " ...\n",
      " '2020-12-04 00:00:00', '2020-12-09 00:00:00', '2020-12-10 00:00:00',\n",
      " '2020-12-11 00:00:00', '2020-12-15 00:00:00', '2020-12-16 00:00:00',\n",
      " '2020-12-17 00:00:00', '2020-12-18 00:00:00', '2020-12-23 00:00:00',\n",
      " '2020-12-29 00:00:00']\n",
      "Length: 183, dtype: datetime64[ns]\n"
     ]
    }
   ],
   "source": [
    "print(company_ipo['Ticker'].unique())\n",
    "print(company_ipo['IPO Date'].unique())\n",
    "print(ipo_age['Ticker'].unique())\n",
    "print(ipo_age['Offer date'].unique())"
   ]
  },
  {
   "cell_type": "code",
   "execution_count": 32,
   "id": "c1b5b7fa",
   "metadata": {},
   "outputs": [
    {
     "name": "stdout",
     "output_type": "stream",
     "text": [
      "1758\n",
      "437\n",
      "386\n",
      "183\n"
     ]
    }
   ],
   "source": [
    "print(company_ipo['Ticker'].nunique())\n",
    "print(company_ipo['IPO Date'].nunique())\n",
    "print(ipo_age['Ticker'].nunique())\n",
    "print(ipo_age['Offer date'].nunique())\n"
   ]
  },
  {
   "cell_type": "code",
   "execution_count": 33,
   "id": "e9c52592",
   "metadata": {},
   "outputs": [
    {
     "name": "stdout",
     "output_type": "stream",
     "text": [
      "371\n"
     ]
    }
   ],
   "source": [
    "matches = company_ipo['Ticker'].isin(ipo_age['Ticker'])\n",
    "print(matches.sum())\n"
   ]
  },
  {
   "cell_type": "markdown",
   "id": "df596aee",
   "metadata": {},
   "source": [
    "The company_ipo dataframe has 1758 unique tickers and 437 unique dates. On the other hand, the ipo_age dataframe has 386 unique tickers and 183 unique dates.\n",
    "\n",
    "This discrepancy may result in an imperfect merge, as not all tickers and dates from both dataframes may align.\n",
    "\n",
    "Since since the ipo_age DataFrame has most of the variables we are going to investigate, we will import the IPO Price from company_ipo for the Tickers that we have in the ipo_age DataFrame. \n",
    "\n",
    "There are 371 matches out of 386 IPOs in the ipo_age Dataframe. We will investigate more about these cases after the merge. "
   ]
  },
  {
   "cell_type": "markdown",
   "id": "65202830",
   "metadata": {},
   "source": [
    "### Merging the DataFrames\n",
    "We will create a new DataFrame merged_df which include all rows from `ipo_age`using left merge, importing the IPO Price column and the IPO Date column which we will use to check the integrity of the data.  \n",
    "We use the 'Ticker' column on both DataFrames on= 'Ticker' for the merge.  "
   ]
  },
  {
   "cell_type": "code",
   "execution_count": 34,
   "id": "a49997f8",
   "metadata": {},
   "outputs": [
    {
     "name": "stdout",
     "output_type": "stream",
     "text": [
      "  Offer date                   IPO name Ticker      CUSIP Rollup   VC  Dual  \\\n",
      "0 2019-01-04       China Sxt Pharms Inc   SXTC  G2161P108      0  0.0   0.0   \n",
      "1 2019-01-08                   Mdjm Ltd   MDJH  G59290109      0  0.0   0.0   \n",
      "2 2019-01-09  1895 Bancorp of Wisconsin   BCOW  28252W105      .  0.0   0.0   \n",
      "3 2019-01-09                  Mmtec Inc    MTC   G6181K10      0  0.0   0.0   \n",
      "4 2019-01-17          Rhinebeck Bancorp   RBKB  762093102      .  0.0   0.0   \n",
      "\n",
      "   PostIssueShares  Internet CRSP permanent ID   Founding  IPO Price  \\\n",
      "0              NaN       0.0             18372 2006-01-01        4.0   \n",
      "1              NaN       0.0             18364 2014-01-01        5.0   \n",
      "2              NaN       0.0             18356 1995-01-01       10.0   \n",
      "3              NaN       0.0             18365 1956-01-01        4.0   \n",
      "4              NaN       0.0             18369 1960-01-01       10.0   \n",
      "\n",
      "    IPO Date  \n",
      "0 2019-01-04  \n",
      "1 2019-01-08  \n",
      "2 2019-01-09  \n",
      "3 2019-01-08  \n",
      "4 2019-01-17  \n"
     ]
    }
   ],
   "source": [
    "merged_df = ipo_age.merge(company_ipo[['Ticker', 'IPO Price', 'IPO Date']], on='Ticker', how='left')\n",
    "\n",
    "print(merged_df.head())"
   ]
  },
  {
   "cell_type": "markdown",
   "id": "e1a1d1e9",
   "metadata": {},
   "source": [
    "The 'IPO Date' from the company_ipo dataframe matches the 'Offer date' from the ipo_age dataframe for 369 of the records in the merged dataframe."
   ]
  },
  {
   "cell_type": "code",
   "execution_count": 35,
   "id": "77b79d67",
   "metadata": {
    "scrolled": true
   },
   "outputs": [
    {
     "name": "stdout",
     "output_type": "stream",
     "text": [
      "date_match\n",
      "True     369\n",
      "False     17\n",
      "Name: count, dtype: int64\n"
     ]
    }
   ],
   "source": [
    "merged_df['date_match'] = merged_df['IPO Date'] == merged_df['Offer date']\n",
    "print(merged_df['date_match'].value_counts())"
   ]
  },
  {
   "cell_type": "markdown",
   "id": "6073ff55",
   "metadata": {},
   "source": [
    "We will now look into these 17 records to identify the cause of the mismatch."
   ]
  },
  {
   "cell_type": "code",
   "execution_count": 36,
   "id": "dc787ce4",
   "metadata": {},
   "outputs": [
    {
     "name": "stdout",
     "output_type": "stream",
     "text": [
      "    Offer date                        IPO name Ticker      CUSIP Rollup   VC  \\\n",
      "3   2019-01-09                       Mmtec Inc    MTC   G6181K10      0  0.0   \n",
      "5   2019-01-30  Pimco Energy & Tactical Credit   NRGX   69346N10      0  0.0   \n",
      "15  2019-02-15                         Soliton   SOLY  xxxxxxxxx      .  0.0   \n",
      "20  2019-03-08               Futu Holdings Ltd    FHL  36118L106      .  1.0   \n",
      "23  2019-03-27       Tortoise Essential Assets   TEAF  89148A103      0  0.0   \n",
      "57  2019-05-09   Milestone Pharmaceuticals Inc   MIST  59935V107      0  1.0   \n",
      "67  2019-05-17               Luckin Coffee Inc     LK  54951L109      0  2.0   \n",
      "71  2019-06-06                 Gsx Techedu Inc    GSX  36257Y109      .  0.0   \n",
      "84  2019-06-26   BlackRock Science and Tech II   BSTZ  09260K101      0  0.0   \n",
      "113 2019-08-15                          9F Inc    JFG  65442R109      .  0.0   \n",
      "142 2019-10-29   AllianzGI Artificial Int Fund    AIO   01883M10      0  0.0   \n",
      "159 2019-11-26   Calamos Long/Short Equity Inc    CPZ  12812C106      0  0.0   \n",
      "174 2020-01-29      BlackRock Health Sci Tr II   BMEZ  09260E105      0  0.0   \n",
      "190 2020-02-26                DoubleLine Yield    DLY  25862D105      0  0.0   \n",
      "228 2020-06-26          Angel Oak Dynamic Finl   DYFN  03462A102      0  0.0   \n",
      "301 2020-09-25    BlackRock Capital Allocation   BCAT  09260U109      0  0.0   \n",
      "360 2020-11-25  PGIM Short Duration High Yield   SDHY  69355J104      0  0.0   \n",
      "\n",
      "     Dual  PostIssueShares  Internet CRSP permanent ID   Founding  IPO Price  \\\n",
      "3     0.0              NaN       0.0             18365 1956-01-01        4.0   \n",
      "5     0.0              NaN       0.0             18349        NaT        NaN   \n",
      "15    0.0              NaN       0.0                 . 2020-01-01        5.0   \n",
      "20    1.0     8.883478e+08       1.0             18466 2011-01-01        NaN   \n",
      "23    0.0              NaN       0.0             18450 2017-01-01        NaN   \n",
      "57    0.0              NaN       0.0             18663 2003-01-01        NaN   \n",
      "67    1.0     1.883021e+09       0.0             18662 2017-01-01        NaN   \n",
      "71    1.0     1.566500e+08       0.0             18743 2014-01-01        NaN   \n",
      "84    0.0              NaN       0.0             18739 2019-01-01        NaN   \n",
      "113   1.0     1.938560e+08       1.0             18897 2006-01-01        NaN   \n",
      "142   0.0              NaN       0.0             18969 2019-01-01        NaN   \n",
      "159   0.0              NaN       0.0             19068 2017-01-01        NaN   \n",
      "174   0.0              NaN       0.0             19150 2019-01-01        NaN   \n",
      "190   0.0              NaN       0.0             19208 2019-01-01        NaN   \n",
      "228   0.0              NaN       0.0             19415 2009-01-01        NaN   \n",
      "301   0.0              NaN       0.0             19747 2020-01-01        NaN   \n",
      "360   0.0              NaN       0.0             20099 2020-01-01        NaN   \n",
      "\n",
      "      IPO Date  date_match  \n",
      "3   2019-01-08       False  \n",
      "5          NaT       False  \n",
      "15  2019-02-19       False  \n",
      "20         NaT       False  \n",
      "23         NaT       False  \n",
      "57         NaT       False  \n",
      "67         NaT       False  \n",
      "71         NaT       False  \n",
      "84         NaT       False  \n",
      "113        NaT       False  \n",
      "142        NaT       False  \n",
      "159        NaT       False  \n",
      "174        NaT       False  \n",
      "190        NaT       False  \n",
      "228        NaT       False  \n",
      "301        NaT       False  \n",
      "360        NaT       False  \n"
     ]
    }
   ],
   "source": [
    "mismatched_records = merged_df[merged_df['date_match'] == False]\n",
    "print(mismatched_records)\n"
   ]
  },
  {
   "cell_type": "markdown",
   "id": "ed58461a",
   "metadata": {},
   "source": [
    "After doing some online research, the correct Offer Date for MTC is 2019-01-08 and for SOLY is 2019-02-19.\n",
    "We will update them manually:"
   ]
  },
  {
   "cell_type": "code",
   "execution_count": 37,
   "id": "5e1a29d0",
   "metadata": {},
   "outputs": [],
   "source": [
    "merged_df.loc[(merged_df['Ticker'] == 'MTC'), 'Offer date'] = pd.Timestamp('2019-01-08')\n",
    "merged_df.loc[(merged_df['Ticker'] == 'SOLY'), 'Offer date'] = pd.Timestamp('2019-02-19')\n"
   ]
  },
  {
   "cell_type": "markdown",
   "id": "b6b29e8d",
   "metadata": {},
   "source": [
    "Now we can drop the remaining mismatched records by the 'date_match' column, since none of these companies have the IPO offer price available. "
   ]
  },
  {
   "cell_type": "code",
   "execution_count": 38,
   "id": "3b70c54b",
   "metadata": {},
   "outputs": [],
   "source": [
    "merged_df['date_match'] = merged_df['IPO Date'] == merged_df['Offer date']"
   ]
  },
  {
   "cell_type": "code",
   "execution_count": 39,
   "id": "c2b6b2db",
   "metadata": {},
   "outputs": [],
   "source": [
    "merged_df = merged_df[merged_df['date_match'] == True]"
   ]
  },
  {
   "cell_type": "code",
   "execution_count": 40,
   "id": "506faf1e",
   "metadata": {},
   "outputs": [
    {
     "name": "stdout",
     "output_type": "stream",
     "text": [
      "0\n"
     ]
    }
   ],
   "source": [
    "# Check if we have any other missing values in IPO Price column. \n",
    "\n",
    "print(merged_df['IPO Price'].isnull().sum())\n"
   ]
  },
  {
   "cell_type": "markdown",
   "id": "ff400cd8",
   "metadata": {},
   "source": [
    "We don´t have any more missing values in the 'IPO Price' column :)\n",
    "\n",
    "We will drop the columns we don´t need:"
   ]
  },
  {
   "cell_type": "code",
   "execution_count": 41,
   "id": "4288ac6b",
   "metadata": {},
   "outputs": [],
   "source": [
    "merged_df = merged_df.drop(columns=['IPO Date', 'date_match'])"
   ]
  },
  {
   "cell_type": "code",
   "execution_count": 42,
   "id": "70e47b40",
   "metadata": {},
   "outputs": [
    {
     "name": "stdout",
     "output_type": "stream",
     "text": [
      "  Offer date                   IPO name Ticker      CUSIP Rollup   VC  Dual  \\\n",
      "0 2019-01-04       China Sxt Pharms Inc   SXTC  G2161P108      0  0.0   0.0   \n",
      "1 2019-01-08                   Mdjm Ltd   MDJH  G59290109      0  0.0   0.0   \n",
      "2 2019-01-09  1895 Bancorp of Wisconsin   BCOW  28252W105      .  0.0   0.0   \n",
      "3 2019-01-08                  Mmtec Inc    MTC   G6181K10      0  0.0   0.0   \n",
      "4 2019-01-17          Rhinebeck Bancorp   RBKB  762093102      .  0.0   0.0   \n",
      "\n",
      "   PostIssueShares  Internet CRSP permanent ID   Founding  IPO Price  \n",
      "0              NaN       0.0             18372 2006-01-01        4.0  \n",
      "1              NaN       0.0             18364 2014-01-01        5.0  \n",
      "2              NaN       0.0             18356 1995-01-01       10.0  \n",
      "3              NaN       0.0             18365 1956-01-01        4.0  \n",
      "4              NaN       0.0             18369 1960-01-01       10.0  \n"
     ]
    }
   ],
   "source": [
    "print(merged_df.head())"
   ]
  },
  {
   "cell_type": "markdown",
   "id": "cf39030b",
   "metadata": {},
   "source": [
    "We will create a new feature, 'Age at IPO', by subtracting the 'Founding' date from the 'Offer date'. This will provide useful information for our analysis."
   ]
  },
  {
   "cell_type": "code",
   "execution_count": 43,
   "id": "abdcb2e1",
   "metadata": {},
   "outputs": [],
   "source": [
    "# Create 'Company Age at IPO' column\n",
    "merged_df['Age at IPO'] = (merged_df['Offer date'].dt.year - merged_df['Founding'].dt.year)\n"
   ]
  },
  {
   "cell_type": "code",
   "execution_count": 44,
   "id": "555e804b",
   "metadata": {},
   "outputs": [
    {
     "name": "stdout",
     "output_type": "stream",
     "text": [
      "  Offer date                   IPO name Ticker      CUSIP Rollup   VC  Dual  \\\n",
      "0 2019-01-04       China Sxt Pharms Inc   SXTC  G2161P108      0  0.0   0.0   \n",
      "1 2019-01-08                   Mdjm Ltd   MDJH  G59290109      0  0.0   0.0   \n",
      "2 2019-01-09  1895 Bancorp of Wisconsin   BCOW  28252W105      .  0.0   0.0   \n",
      "3 2019-01-08                  Mmtec Inc    MTC   G6181K10      0  0.0   0.0   \n",
      "4 2019-01-17          Rhinebeck Bancorp   RBKB  762093102      .  0.0   0.0   \n",
      "\n",
      "   PostIssueShares  Internet CRSP permanent ID   Founding  IPO Price  \\\n",
      "0              NaN       0.0             18372 2006-01-01        4.0   \n",
      "1              NaN       0.0             18364 2014-01-01        5.0   \n",
      "2              NaN       0.0             18356 1995-01-01       10.0   \n",
      "3              NaN       0.0             18365 1956-01-01        4.0   \n",
      "4              NaN       0.0             18369 1960-01-01       10.0   \n",
      "\n",
      "   Age at IPO  \n",
      "0          13  \n",
      "1           5  \n",
      "2          24  \n",
      "3          63  \n",
      "4          59  \n"
     ]
    }
   ],
   "source": [
    "print(merged_df.head())"
   ]
  },
  {
   "cell_type": "markdown",
   "id": "8d088f34",
   "metadata": {},
   "source": [
    "## Import Stock Price data from Yahoo for our IPO Ticker symbols"
   ]
  },
  {
   "cell_type": "code",
   "execution_count": 45,
   "id": "823472b7",
   "metadata": {},
   "outputs": [],
   "source": [
    "tickers = merged_df['Ticker'].unique().tolist()"
   ]
  },
  {
   "cell_type": "markdown",
   "id": "99f2ddc8",
   "metadata": {},
   "source": [
    "We will include Nasdaq 100 ticker ^NDX which we will use later to calculate above-average returns "
   ]
  },
  {
   "cell_type": "code",
   "execution_count": 46,
   "id": "6605f529",
   "metadata": {},
   "outputs": [],
   "source": [
    "tickers.append('^NDX')"
   ]
  },
  {
   "cell_type": "code",
   "execution_count": 47,
   "id": "e663d213",
   "metadata": {},
   "outputs": [
    {
     "name": "stdout",
     "output_type": "stream",
     "text": [
      "['SXTC', 'MDJH', 'BCOW', 'MTC', 'RBKB', 'NFE', 'INMB', 'ALEC', 'GOSS', 'HARP', 'IMAC', 'AVDR', 'TCRR', 'HOTH', 'SOLY', 'MITO', 'SLGG', 'KLDO', 'SWAV', 'TIGR', 'LEVI', 'DTIL', 'WTRE', 'LYFT', 'PUYI', 'PBTS', 'RUHN', 'NGM', 'SILK', 'TW', 'GHSI', 'PD', 'TUFN', 'PLMR', 'TPTX', 'MNRL', 'GNLN', 'HOOK', 'PINS', 'ZM', 'WAFU', 'BYND', 'SY', 'TMDX', 'ATIF', 'RRBI', 'SCPL', 'YJ', 'TRVI', 'PSN', 'AXLA', 'CRTX', 'HHR', 'MEC', 'NXTC', 'SPFI', 'JFIN', 'SONM', 'UBER', 'APLT', 'PSTL', 'AVTR', 'FSLY', 'BCYC', 'IDYA', 'RTLR', 'RVLV', 'CRWD', 'MWK', 'FVRR', 'CHWY', 'STOK', 'AKRO', 'BCEL', 'GO', 'PSNL', 'PRVL', 'WORK', 'CMBM', 'ADPT', 'BBIO', 'CHNG', 'MORF', 'KRTX', 'REAL', 'DOYU', 'AMK', 'FULC', 'MIRM', 'ORCC', 'PHR', 'AFYA', 'MDLA', 'EIC', 'CSTL', 'HCAT', 'LVGO', 'PROS', 'NOVA', 'BHAT', 'WSG', 'DT', 'KRUS', 'SNDL', 'HKIB', 'INMD', 'CFB', 'TXG', 'SDC', 'NET', 'STSA', 'SWTX', 'NVST', 'IGMS', 'DDOG', 'XGN', 'PING', 'OPRT', 'PTON', 'APRE', 'FREQ', 'VIE', 'BNTX', 'HBT', 'VIR', 'BRBR', 'BRP', 'AIH', 'CABA', 'HAPP', 'PHAT', 'PGNY', 'TFFP', 'DAO', 'OYST', 'RAPT', 'DUO', 'QK', 'CNTG', 'GRTX', 'SI', 'KRKR', 'CNSP', 'MOHO', 'TELA', 'ETNB', 'YAYO', 'CAN', 'SITM', 'PINE', 'LMPX', 'XP', 'BILL', 'EH', 'OCFT', 'SPT', 'INDO', 'MNPR', 'MKD', 'IMAB', 'LIZI', 'DNK', 'VEL', 'ANVS', 'ANPC', 'BDTX', 'ONEM', 'ARQT', 'REYN', 'BEAM', 'CSPR', 'PPD', 'SDGR', 'NREF', 'ONEW', 'HUIZ', 'GRIL', 'RVMD', 'ZCMD', 'PASG', 'GFL', 'IMRA', 'WIMI', 'ZNTL', 'KROS', 'ORIC', 'LYRA', 'AYLA', 'CLEU', 'KC', 'ADCT', 'SLQT', 'NARI', 'PLRX', 'WMG', 'ZI', 'AMTI', 'DADA', 'LEGN', 'FOUR', 'VRM', 'UCL', 'LTRN', 'AZEK', 'RNA', 'BNR', 'GBIO', 'PCVX', 'RPRX', 'FMTX', 'GTH', 'PROG', 'RPTX', 'API', 'AKUS', 'ACI', 'EBON', 'FUSN', 'PYPD', 'ADTX', 'DNB', 'ACCD', 'LMND', 'BLCT', 'NKTX', 'PSTX', 'QH', 'NCNO', 'GOCO', 'RLAY', 'TIG', 'ALXO', 'BLI', 'PAND', 'JAMF', 'EDTK', 'ANNX', 'INZY', 'NRIX', 'ITOS', 'VERX', 'ALVR', 'LI', 'GOED', 'FTHM', 'VSTA', 'VITL', 'BIGC', 'RXT', 'AFIB', 'OSH', 'RKT', 'CMPI', 'FRLN', 'IBEX', 'KBNT', 'BEKE', 'NTST', 'CVAC', 'DCT', 'HRMY', 'INBX', 'KYMR', 'NNOX', 'XPEV', 'HCDI', 'AUVI', 'PRFX', 'OM', 'FROG', 'MTCR', 'SNOW', 'STEP', 'AMWL', 'BNL', 'DYN', 'PTVE', 'SUMO', 'ATHA', 'CMPS', 'U', 'VTRU', 'BSY', 'CRSR', 'GDRX', 'LSF', 'TSHA', 'AMST', 'GRAY', 'GLSI', 'PMVP', 'PRLD', 'VIAO', 'ASAN', 'BQ', 'CD', 'PLTR', 'YALA', 'LXEH', 'AVO', 'LUNG', 'THRY', 'ASO', 'CCCC', 'IMNM', 'ONCR', 'SQFT', 'AZYO', 'FUBO', 'KRON', 'STTK', 'SPRB', 'IH', 'CDAK', 'ARRY', 'MNSO', 'ALGS', 'EAR', 'KRBP', 'PRAX', 'TARS', 'MSP', 'YGMZ', 'GHLD', 'MCFE', 'FHTX', 'BDSX', 'GATO', 'MAX', 'ROOT', 'ALGM', 'GLTO', 'LESL', 'AVIR', 'JUPW', 'LU', 'SQZ', 'NGMS', 'OLMA', 'TLS', 'YSG', 'MRVI', 'SHC', 'HFEN', 'OZON', 'VMAR', 'KNTE', 'YQ', 'SEER', 'SGTX', 'SBTX', 'AI', 'DASH', 'PUBM', 'ABNB', 'HYFM', 'FDMT', 'ABCL', 'CERT', 'VVOS', 'OCG', 'WNW', 'BCAB', 'WISH', 'SCPS', 'UPST', 'VIRI', 'MASS', 'GBS', 'IKT', 'MRM', '^NDX']\n"
     ]
    }
   ],
   "source": [
    "print(tickers)"
   ]
  },
  {
   "cell_type": "markdown",
   "id": "c1de3398",
   "metadata": {},
   "source": [
    "To handle errors that might occur when trying to download the data we used: `try and except Exception as e` \n",
    "\n",
    "If an error occurs, the code inside the except block will be executed. The {e} part of the string will be replaced with the actual error message.\n"
   ]
  },
  {
   "cell_type": "code",
   "execution_count": 48,
   "id": "ec68f162",
   "metadata": {},
   "outputs": [
    {
     "name": "stdout",
     "output_type": "stream",
     "text": [
      "[*********************100%***********************]  372 of 372 completed\n",
      "\n",
      "46 Failed downloads:\n",
      "- MDLA: No timezone found, symbol may be delisted\n",
      "- HKIB: No timezone found, symbol may be delisted\n",
      "- MOHO: No timezone found, symbol may be delisted\n",
      "- DNK: No timezone found, symbol may be delisted\n",
      "- CHNG: No timezone found, symbol may be delisted\n",
      "- TPTX: No timezone found, symbol may be delisted\n",
      "- WORK: No timezone found, symbol may be delisted\n",
      "- CSPR: No timezone found, symbol may be delisted\n",
      "- AYLA: No timezone found, symbol may be delisted\n",
      "- MKD: No timezone found, symbol may be delisted\n",
      "- SBTX: No timezone found, symbol may be delisted\n",
      "- PPD: No timezone found, symbol may be delisted\n",
      "- GBS: No timezone found, symbol may be delisted\n",
      "- RUHN: No timezone found, symbol may be delisted\n",
      "- IMAC: No timezone found, symbol may be delisted\n",
      "- MCFE: No timezone found, symbol may be delisted\n",
      "- PROS: No timezone found, symbol may be delisted\n",
      "- VIE: No timezone found, symbol may be delisted\n",
      "- PRVL: No timezone found, symbol may be delisted\n",
      "- PROG: No timezone found, symbol may be delisted\n",
      "- HAPP: No timezone found, symbol may be delisted\n",
      "- PING: No timezone found, symbol may be delisted\n",
      "- WSG: No timezone found, symbol may be delisted\n",
      "- GRAY: No timezone found, symbol may be delisted\n",
      "- GOED: No timezone found, symbol may be delisted\n",
      "- HFEN: No timezone found, symbol may be delisted\n",
      "- FMTX: No timezone found, symbol may be delisted\n",
      "- ONEM: No timezone found, symbol may be delisted\n",
      "- CRTX: No timezone found, symbol may be delisted\n",
      "- AKUS: No timezone found, symbol may be delisted\n",
      "- IMRA: No timezone found, symbol may be delisted\n",
      "- SOLY: No timezone found, symbol may be delisted\n",
      "- MNRL: No timezone found, symbol may be delisted\n",
      "- MSP: No timezone found, symbol may be delisted\n",
      "- PAND: No timezone found, symbol may be delisted\n",
      "- LVGO: No timezone found, symbol may be delisted\n",
      "- DCT: No data found, symbol may be delisted\n",
      "- QK: No timezone found, symbol may be delisted\n",
      "- TUFN: No timezone found, symbol may be delisted\n",
      "- MWK: No timezone found, symbol may be delisted\n",
      "- BLI: No timezone found, symbol may be delisted\n",
      "- MITO: No timezone found, symbol may be delisted\n",
      "- CDAK: No data found, symbol may be delisted\n",
      "- BLCT: No timezone found, symbol may be delisted\n",
      "- CMPI: No timezone found, symbol may be delisted\n",
      "- OYST: No timezone found, symbol may be delisted\n"
     ]
    }
   ],
   "source": [
    "try:\n",
    "    price_data = yf.download(tickers, start=\"2019-01-01\", end=\"2023-12-30\")\n",
    "except Exception as e:\n",
    "    print(f\"Error downloading data: {e}\")"
   ]
  },
  {
   "cell_type": "code",
   "execution_count": 49,
   "id": "d0bb853e",
   "metadata": {},
   "outputs": [],
   "source": [
    "price_data.index = pd.to_datetime(price_data.index)"
   ]
  },
  {
   "cell_type": "code",
   "execution_count": 50,
   "id": "321691a6",
   "metadata": {},
   "outputs": [
    {
     "name": "stdout",
     "output_type": "stream",
     "text": [
      "           Adj Close                                             ... Volume  \\\n",
      "                ABCL ABNB ACCD ACI ADCT ADPT ADTX AFIB AFYA  AI  ...   YAYO   \n",
      "Date                                                             ...          \n",
      "2019-01-02       NaN  NaN  NaN NaN  NaN  NaN  NaN  NaN  NaN NaN  ...    NaN   \n",
      "2019-01-03       NaN  NaN  NaN NaN  NaN  NaN  NaN  NaN  NaN NaN  ...    NaN   \n",
      "2019-01-04       NaN  NaN  NaN NaN  NaN  NaN  NaN  NaN  NaN NaN  ...    NaN   \n",
      "2019-01-07       NaN  NaN  NaN NaN  NaN  NaN  NaN  NaN  NaN NaN  ...    NaN   \n",
      "2019-01-08       NaN  NaN  NaN NaN  NaN  NaN  NaN  NaN  NaN NaN  ...    NaN   \n",
      "\n",
      "                                                           \n",
      "           YGMZ  YJ  YQ YSG ZCMD  ZI  ZM ZNTL        ^NDX  \n",
      "Date                                                       \n",
      "2019-01-02  NaN NaN NaN NaN  NaN NaN NaN  NaN  2261800000  \n",
      "2019-01-03  NaN NaN NaN NaN  NaN NaN NaN  NaN  2631550000  \n",
      "2019-01-04  NaN NaN NaN NaN  NaN NaN NaN  NaN  2596150000  \n",
      "2019-01-07  NaN NaN NaN NaN  NaN NaN NaN  NaN  2523450000  \n",
      "2019-01-08  NaN NaN NaN NaN  NaN NaN NaN  NaN  2407340000  \n",
      "\n",
      "[5 rows x 2232 columns]\n"
     ]
    }
   ],
   "source": [
    "print(price_data.head())"
   ]
  },
  {
   "cell_type": "code",
   "execution_count": 51,
   "id": "6a455672",
   "metadata": {},
   "outputs": [
    {
     "name": "stdout",
     "output_type": "stream",
     "text": [
      "<class 'pandas.core.frame.DataFrame'>\n",
      "DatetimeIndex: 1115 entries, 2019-01-02 to 2023-06-06\n",
      "Columns: 2232 entries, ('Adj Close', 'ABCL') to ('Volume', '^NDX')\n",
      "dtypes: float64(2229), int64(3)\n",
      "memory usage: 19.0 MB\n"
     ]
    }
   ],
   "source": [
    "price_data.info()"
   ]
  },
  {
   "cell_type": "markdown",
   "id": "a9e3a01b",
   "metadata": {},
   "source": [
    "We need to reshape the price data so that we get one row for each date-ticker combination, and columns for the different price types. This way we will get all the ticker symbols as a single column in the df."
   ]
  },
  {
   "cell_type": "code",
   "execution_count": 52,
   "id": "82bd4fdc",
   "metadata": {},
   "outputs": [],
   "source": [
    "price_data_stacked = price_data.stack().reset_index()"
   ]
  },
  {
   "cell_type": "code",
   "execution_count": 53,
   "id": "8c3aca87",
   "metadata": {},
   "outputs": [
    {
     "name": "stdout",
     "output_type": "stream",
     "text": [
      "        Date level_1    Adj Close        Close         High          Low  \\\n",
      "0 2019-01-02    THRY    10.350000    10.350000    10.350000    10.350000   \n",
      "1 2019-01-02    WTRE    22.815611    27.450001    27.450001    27.260000   \n",
      "2 2019-01-02    ^NDX  6360.870117  6360.870117  6394.740234  6198.680176   \n",
      "3 2019-01-03    THRY    10.350000    10.350000    10.350000    10.350000   \n",
      "4 2019-01-03    WTRE    22.848856    27.490000    27.540001    27.430000   \n",
      "\n",
      "          Open        Volume  \n",
      "0    10.350000  0.000000e+00  \n",
      "1    27.280001  7.600000e+03  \n",
      "2  6198.680176  2.261800e+09  \n",
      "3    10.350000  0.000000e+00  \n",
      "4    27.510000  6.300000e+03  \n"
     ]
    }
   ],
   "source": [
    "print(price_data_stacked.head())"
   ]
  },
  {
   "cell_type": "code",
   "execution_count": 54,
   "id": "bf3778eb",
   "metadata": {},
   "outputs": [],
   "source": [
    "price_data_stacked.rename(columns={'level_1': 'Ticker'}, inplace=True)"
   ]
  },
  {
   "cell_type": "code",
   "execution_count": 55,
   "id": "294174d2",
   "metadata": {},
   "outputs": [
    {
     "name": "stdout",
     "output_type": "stream",
     "text": [
      "        Date Ticker    Adj Close        Close         High          Low  \\\n",
      "0 2019-01-02   THRY    10.350000    10.350000    10.350000    10.350000   \n",
      "1 2019-01-02   WTRE    22.815611    27.450001    27.450001    27.260000   \n",
      "2 2019-01-02   ^NDX  6360.870117  6360.870117  6394.740234  6198.680176   \n",
      "3 2019-01-03   THRY    10.350000    10.350000    10.350000    10.350000   \n",
      "4 2019-01-03   WTRE    22.848856    27.490000    27.540001    27.430000   \n",
      "\n",
      "          Open        Volume  \n",
      "0    10.350000  0.000000e+00  \n",
      "1    27.280001  7.600000e+03  \n",
      "2  6198.680176  2.261800e+09  \n",
      "3    10.350000  0.000000e+00  \n",
      "4    27.510000  6.300000e+03  \n"
     ]
    }
   ],
   "source": [
    "print(price_data_stacked.head())"
   ]
  },
  {
   "cell_type": "markdown",
   "id": "0321ec7a",
   "metadata": {},
   "source": [
    "### Calculating period returns \n",
    "This will give us insights into the performance of the companies after they go public.\n",
    "We will calculate returns over different fixed periods: 1 day, 1 week, 1 month, 3 months, 6 months, and 1 year.\n",
    "\n",
    "We first group the data by ticker and then use pct_change() method to calculate the percentage change in the 'Close' price for each period. First we will sort the data by 'Date' within each group to ensure the returns are calculated correctly."
   ]
  },
  {
   "cell_type": "code",
   "execution_count": 56,
   "id": "8a5329cf",
   "metadata": {},
   "outputs": [],
   "source": [
    "price_data_sorted = price_data_stacked.sort_values(by='Date').groupby('Ticker')\n",
    "\n",
    "price_data_stacked['Return_1d'] = price_data_sorted['Adj Close'].pct_change(1)    # 1-day return\n",
    "price_data_stacked['Return_1w'] = price_data_sorted['Adj Close'].pct_change(5)    # 1-week return (assuming 5 trading days in a week)\n",
    "price_data_stacked['Return_1m'] = price_data_sorted['Adj Close'].pct_change(21)   # 1-month return (assuming 21 trading days in a month)\n",
    "price_data_stacked['Return_3m'] = price_data_sorted['Adj Close'].pct_change(63)   # 3-month return\n",
    "price_data_stacked['Return_6m'] = price_data_sorted['Adj Close'].pct_change(126)  # 6-month return\n",
    "price_data_stacked['Return_1y'] = price_data_sorted['Adj Close'].pct_change(252)  # 1-year return\n"
   ]
  },
  {
   "cell_type": "code",
   "execution_count": 57,
   "id": "b5a329d2",
   "metadata": {},
   "outputs": [
    {
     "name": "stdout",
     "output_type": "stream",
     "text": [
      "         Date Ticker    Adj Close        Close         High          Low  \\\n",
      "0  2019-01-02   THRY    10.350000    10.350000    10.350000    10.350000   \n",
      "1  2019-01-02   WTRE    22.815611    27.450001    27.450001    27.260000   \n",
      "2  2019-01-02   ^NDX  6360.870117  6360.870117  6394.740234  6198.680176   \n",
      "3  2019-01-03   THRY    10.350000    10.350000    10.350000    10.350000   \n",
      "4  2019-01-03   WTRE    22.848856    27.490000    27.540001    27.430000   \n",
      "5  2019-01-03   ^NDX  6147.129883  6147.129883  6292.680176  6139.399902   \n",
      "6  2019-01-04   SXTC    22.959999    22.959999    23.959999    17.600000   \n",
      "7  2019-01-04   THRY    10.350000    10.350000    10.350000    10.350000   \n",
      "8  2019-01-04   WTRE    23.488857    28.260000    28.299999    27.950001   \n",
      "9  2019-01-04   ^NDX  6422.669922  6422.669922  6445.200195  6234.589844   \n",
      "10 2019-01-07   SXTC    24.440001    24.440001    27.200001    22.740000   \n",
      "11 2019-01-07   THRY    10.350000    10.350000    10.350000    10.350000   \n",
      "12 2019-01-07   WTRE    23.630157    28.430000    28.480000    28.240000   \n",
      "13 2019-01-07   ^NDX  6488.250000  6488.250000  6521.439941  6412.979980   \n",
      "14 2019-01-08   MDJH     4.700000     4.700000     4.990000     4.400000   \n",
      "15 2019-01-08   SXTC    26.040001    26.040001    28.000000    24.200001   \n",
      "16 2019-01-08   THRY    10.350000    10.350000    10.350000    10.350000   \n",
      "17 2019-01-08   WTRE    23.854576    28.700001    28.770000    28.580000   \n",
      "18 2019-01-08   ^NDX  6551.850098  6551.850098  6574.729980  6457.000000   \n",
      "19 2019-01-09   BCOW     7.294833     7.294833     7.978723     7.294833   \n",
      "20 2019-01-09   MDJH     5.720000     5.720000     6.250000     4.000000   \n",
      "21 2019-01-09    MTC    75.500000    75.500000    79.900002    56.000000   \n",
      "22 2019-01-09   SXTC    47.799999    47.799999    62.720001    27.000000   \n",
      "23 2019-01-09   THRY    10.350000    10.350000    10.350000    10.350000   \n",
      "24 2019-01-09   WTRE    23.987558    28.860001    28.889999    28.730000   \n",
      "25 2019-01-09   ^NDX  6600.689941  6600.689941  6631.060059  6549.439941   \n",
      "26 2019-01-10   BCOW     7.598784     7.598784     7.674772     7.186170   \n",
      "27 2019-01-10   MDJH     5.350000     5.350000     7.900000     5.350000   \n",
      "28 2019-01-10    MTC    72.300003    72.300003   114.430000    69.099998   \n",
      "29 2019-01-10   SXTC    31.000000    31.000000    93.400002    27.240000   \n",
      "30 2019-01-10   THRY    10.350000    10.350000    10.350000    10.350000   \n",
      "31 2019-01-10   WTRE    24.170422    29.080000    29.090000    28.809999   \n",
      "32 2019-01-10   ^NDX  6620.939941  6620.939941  6625.109863  6517.540039   \n",
      "33 2019-01-11   BCOW     7.489362     7.489362     7.598784     7.487842   \n",
      "34 2019-01-11   MDJH     5.300000     5.300000     5.710000     5.300000   \n",
      "35 2019-01-11    MTC    89.000000    89.000000    92.529999    68.400002   \n",
      "36 2019-01-11   SXTC    24.799999    24.799999    31.360001    24.600000   \n",
      "37 2019-01-11   THRY    10.350000    10.350000    10.350000    10.350000   \n",
      "38 2019-01-11   WTRE    24.187040    29.100000    29.120001    29.020000   \n",
      "39 2019-01-11   ^NDX  6601.399902  6601.399902  6604.560059  6562.040039   \n",
      "\n",
      "           Open        Volume  Return_1d  Return_1w  Return_1m  Return_3m  \\\n",
      "0     10.350000  0.000000e+00        NaN        NaN        NaN        NaN   \n",
      "1     27.280001  7.600000e+03        NaN        NaN        NaN        NaN   \n",
      "2   6198.680176  2.261800e+09        NaN        NaN        NaN        NaN   \n",
      "3     10.350000  0.000000e+00   0.000000        NaN        NaN        NaN   \n",
      "4     27.510000  6.300000e+03   0.001457        NaN        NaN        NaN   \n",
      "5   6274.759766  2.631550e+09  -0.033602        NaN        NaN        NaN   \n",
      "6     17.959999  1.037500e+04        NaN        NaN        NaN        NaN   \n",
      "7     10.350000  0.000000e+00   0.000000        NaN        NaN        NaN   \n",
      "8     27.950001  8.400000e+03   0.028010        NaN        NaN        NaN   \n",
      "9   6250.049805  2.596150e+09   0.044824        NaN        NaN        NaN   \n",
      "10    27.200001  6.625000e+03   0.064460        NaN        NaN        NaN   \n",
      "11    10.350000  0.000000e+00   0.000000        NaN        NaN        NaN   \n",
      "12    28.290001  2.720000e+04   0.006016        NaN        NaN        NaN   \n",
      "13  6434.549805  2.523450e+09   0.010211        NaN        NaN        NaN   \n",
      "14     4.750000  3.470000e+04        NaN        NaN        NaN        NaN   \n",
      "15    25.799999  5.650000e+03   0.065466        NaN        NaN        NaN   \n",
      "16    10.350000  0.000000e+00   0.000000        NaN        NaN        NaN   \n",
      "17    28.670000  8.600000e+03   0.009497        NaN        NaN        NaN   \n",
      "18  6555.910156  2.407340e+09   0.009802        NaN        NaN        NaN   \n",
      "19     7.910334  2.795180e+05        NaN        NaN        NaN        NaN   \n",
      "20     4.200000  9.720000e+04   0.217021        NaN        NaN        NaN   \n",
      "21    59.099998  2.042000e+04        NaN        NaN        NaN        NaN   \n",
      "22    27.000000  2.135000e+04   0.835637        NaN        NaN        NaN   \n",
      "23    10.350000  4.890000e+06   0.000000   0.000000        NaN        NaN   \n",
      "24    28.770000  2.900000e+04   0.005575   0.051366        NaN        NaN   \n",
      "25  6576.540039  2.434500e+09   0.007454   0.037702        NaN        NaN   \n",
      "26     7.256839  3.586100e+05   0.041667        NaN        NaN        NaN   \n",
      "27     5.740000  2.236000e+05  -0.064685        NaN        NaN        NaN   \n",
      "28    80.000000  2.425000e+04  -0.042384        NaN        NaN        NaN   \n",
      "29    70.400002  1.577000e+05  -0.351464        NaN        NaN        NaN   \n",
      "30    10.350000  0.000000e+00   0.000000   0.000000        NaN        NaN   \n",
      "31    28.809999  2.050000e+04   0.007623   0.057839        NaN        NaN   \n",
      "32  6551.049805  2.190110e+09   0.003068   0.077078        NaN        NaN   \n",
      "33     7.598784  3.092600e+04  -0.014400        NaN        NaN        NaN   \n",
      "34     5.340000  3.220000e+04  -0.009346        NaN        NaN        NaN   \n",
      "35    68.500000  2.040000e+04   0.230982        NaN        NaN        NaN   \n",
      "36    31.360001  6.685000e+04  -0.200000   0.080139        NaN        NaN   \n",
      "37    10.350000  0.000000e+00   0.000000   0.000000        NaN        NaN   \n",
      "38    29.020000  1.300000e+04   0.000688   0.029724        NaN        NaN   \n",
      "39  6579.890137  2.074310e+09  -0.002951   0.027828        NaN        NaN   \n",
      "\n",
      "    Return_6m  Return_1y  \n",
      "0         NaN        NaN  \n",
      "1         NaN        NaN  \n",
      "2         NaN        NaN  \n",
      "3         NaN        NaN  \n",
      "4         NaN        NaN  \n",
      "5         NaN        NaN  \n",
      "6         NaN        NaN  \n",
      "7         NaN        NaN  \n",
      "8         NaN        NaN  \n",
      "9         NaN        NaN  \n",
      "10        NaN        NaN  \n",
      "11        NaN        NaN  \n",
      "12        NaN        NaN  \n",
      "13        NaN        NaN  \n",
      "14        NaN        NaN  \n",
      "15        NaN        NaN  \n",
      "16        NaN        NaN  \n",
      "17        NaN        NaN  \n",
      "18        NaN        NaN  \n",
      "19        NaN        NaN  \n",
      "20        NaN        NaN  \n",
      "21        NaN        NaN  \n",
      "22        NaN        NaN  \n",
      "23        NaN        NaN  \n",
      "24        NaN        NaN  \n",
      "25        NaN        NaN  \n",
      "26        NaN        NaN  \n",
      "27        NaN        NaN  \n",
      "28        NaN        NaN  \n",
      "29        NaN        NaN  \n",
      "30        NaN        NaN  \n",
      "31        NaN        NaN  \n",
      "32        NaN        NaN  \n",
      "33        NaN        NaN  \n",
      "34        NaN        NaN  \n",
      "35        NaN        NaN  \n",
      "36        NaN        NaN  \n",
      "37        NaN        NaN  \n",
      "38        NaN        NaN  \n",
      "39        NaN        NaN  \n"
     ]
    }
   ],
   "source": [
    "print(price_data_stacked.head(40))"
   ]
  },
  {
   "cell_type": "code",
   "execution_count": 58,
   "id": "7885fb04",
   "metadata": {},
   "outputs": [],
   "source": [
    "# Create a dataframe for NASDAQ 100's return data\n",
    "nasdaq_return_data = price_data_stacked[price_data_stacked['Ticker'] == '^NDX'][['Date', 'Return_1d', 'Return_1w', 'Return_1m', 'Return_3m', 'Return_6m', 'Return_1y']]\n"
   ]
  },
  {
   "cell_type": "code",
   "execution_count": 59,
   "id": "8be11423",
   "metadata": {},
   "outputs": [
    {
     "name": "stdout",
     "output_type": "stream",
     "text": [
      "             Date  Return_1d  Return_1w  Return_1m  Return_3m  Return_6m  \\\n",
      "2      2019-01-02        NaN        NaN        NaN        NaN        NaN   \n",
      "5      2019-01-03  -0.033602        NaN        NaN        NaN        NaN   \n",
      "9      2019-01-04   0.044824        NaN        NaN        NaN        NaN   \n",
      "13     2019-01-07   0.010211        NaN        NaN        NaN        NaN   \n",
      "18     2019-01-08   0.009802        NaN        NaN        NaN        NaN   \n",
      "...           ...        ...        ...        ...        ...        ...   \n",
      "267221 2023-05-31  -0.007029   0.042534   0.077287   0.193953   0.230100   \n",
      "267542 2023-06-01   0.013149   0.061526   0.101257   0.198976   0.255407   \n",
      "267862 2023-06-02   0.007280   0.043628   0.116378   0.183538   0.209191   \n",
      "268182 2023-06-05   0.000678   0.018050   0.121242   0.183217   0.208822   \n",
      "268502 2023-06-06   0.000109   0.014148   0.097967   0.197983   0.213755   \n",
      "\n",
      "        Return_1y  \n",
      "2             NaN  \n",
      "5             NaN  \n",
      "9             NaN  \n",
      "13            NaN  \n",
      "18            NaN  \n",
      "...           ...  \n",
      "267221   0.124014  \n",
      "267542   0.142335  \n",
      "267862   0.159246  \n",
      "268182   0.129033  \n",
      "268502   0.160189  \n",
      "\n",
      "[1115 rows x 7 columns]\n"
     ]
    }
   ],
   "source": [
    "print(nasdaq_return_data)"
   ]
  },
  {
   "cell_type": "markdown",
   "id": "be5ce56c",
   "metadata": {},
   "source": [
    "### Merge \n",
    "The next step is to merge these two DataFrames to combine the information. However, we want to only keep the stock price data that occurred after the IPO date for each company.\n",
    "\n",
    "We will keep all columns for now."
   ]
  },
  {
   "cell_type": "code",
   "execution_count": 60,
   "id": "ff6a3ef1",
   "metadata": {},
   "outputs": [],
   "source": [
    "merged_data = pd.merge(price_data_stacked, merged_df, left_on='Ticker', right_on='Ticker', how='inner')"
   ]
  },
  {
   "cell_type": "code",
   "execution_count": 61,
   "id": "1db26346",
   "metadata": {},
   "outputs": [
    {
     "name": "stdout",
     "output_type": "stream",
     "text": [
      "        Date Ticker  Adj Close  Close   High    Low   Open  Volume  Return_1d  \\\n",
      "0 2019-01-02   THRY      10.35  10.35  10.35  10.35  10.35     0.0        NaN   \n",
      "1 2019-01-03   THRY      10.35  10.35  10.35  10.35  10.35     0.0        0.0   \n",
      "2 2019-01-04   THRY      10.35  10.35  10.35  10.35  10.35     0.0        0.0   \n",
      "3 2019-01-07   THRY      10.35  10.35  10.35  10.35  10.35     0.0        0.0   \n",
      "4 2019-01-08   THRY      10.35  10.35  10.35  10.35  10.35     0.0        0.0   \n",
      "\n",
      "   Return_1w  ...      CUSIP  Rollup   VC  Dual PostIssueShares Internet  \\\n",
      "0        NaN  ...  886029206       0  0.0   0.0             NaN      0.0   \n",
      "1        NaN  ...  886029206       0  0.0   0.0             NaN      0.0   \n",
      "2        NaN  ...  886029206       0  0.0   0.0             NaN      0.0   \n",
      "3        NaN  ...  886029206       0  0.0   0.0             NaN      0.0   \n",
      "4        NaN  ...  886029206       0  0.0   0.0             NaN      0.0   \n",
      "\n",
      "  CRSP permanent ID   Founding  IPO Price  Age at IPO  \n",
      "0             19996 2012-01-01      10.17           8  \n",
      "1             19996 2012-01-01      10.17           8  \n",
      "2             19996 2012-01-01      10.17           8  \n",
      "3             19996 2012-01-01      10.17           8  \n",
      "4             19996 2012-01-01      10.17           8  \n",
      "\n",
      "[5 rows x 26 columns]\n"
     ]
    }
   ],
   "source": [
    "print(merged_data.head())"
   ]
  },
  {
   "cell_type": "code",
   "execution_count": 62,
   "id": "2c7779cf",
   "metadata": {},
   "outputs": [],
   "source": [
    "merged_data = merged_data[merged_data['Date'] >= merged_data['Offer date']]\n"
   ]
  },
  {
   "cell_type": "code",
   "execution_count": 63,
   "id": "45d5d1b6",
   "metadata": {},
   "outputs": [
    {
     "name": "stdout",
     "output_type": "stream",
     "text": [
      "          Date Ticker  Adj Close   Close    High     Low   Open    Volume  \\\n",
      "441 2020-10-01   THRY     11.075  11.075  14.000  10.600  14.00    9600.0   \n",
      "442 2020-10-02   THRY     14.390  14.390  14.974  12.290  13.44  208900.0   \n",
      "443 2020-10-05   THRY     14.030  14.030  15.550  13.473  15.10   69700.0   \n",
      "444 2020-10-06   THRY     12.940  12.940  14.510  12.940  14.45   22600.0   \n",
      "445 2020-10-07   THRY     11.770  11.770  12.840  11.710  12.84   20600.0   \n",
      "\n",
      "     Return_1d  Return_1w  ...      CUSIP  Rollup   VC  Dual PostIssueShares  \\\n",
      "441   0.888321   0.888321  ...  886029206       0  0.0   0.0             NaN   \n",
      "442   0.299323   1.453538  ...  886029206       0  0.0   0.0             NaN   \n",
      "443  -0.025017   1.392157  ...  886029206       0  0.0   0.0             NaN   \n",
      "444  -0.077691   1.206309  ...  886029206       0  0.0   0.0             NaN   \n",
      "445  -0.090417   1.006820  ...  886029206       0  0.0   0.0             NaN   \n",
      "\n",
      "    Internet CRSP permanent ID   Founding  IPO Price  Age at IPO  \n",
      "441      0.0             19996 2012-01-01      10.17           8  \n",
      "442      0.0             19996 2012-01-01      10.17           8  \n",
      "443      0.0             19996 2012-01-01      10.17           8  \n",
      "444      0.0             19996 2012-01-01      10.17           8  \n",
      "445      0.0             19996 2012-01-01      10.17           8  \n",
      "\n",
      "[5 rows x 26 columns]\n"
     ]
    }
   ],
   "source": [
    "print(merged_data.head())"
   ]
  },
  {
   "cell_type": "code",
   "execution_count": 64,
   "id": "8973030f",
   "metadata": {},
   "outputs": [
    {
     "name": "stdout",
     "output_type": "stream",
     "text": [
      "Date                 datetime64[ns]\n",
      "Ticker                       object\n",
      "Adj Close                   float64\n",
      "Close                       float64\n",
      "High                        float64\n",
      "Low                         float64\n",
      "Open                        float64\n",
      "Volume                      float64\n",
      "Return_1d                   float64\n",
      "Return_1w                   float64\n",
      "Return_1m                   float64\n",
      "Return_3m                   float64\n",
      "Return_6m                   float64\n",
      "Return_1y                   float64\n",
      "Offer date           datetime64[ns]\n",
      "IPO name                     object\n",
      "CUSIP                        object\n",
      "Rollup                       object\n",
      "VC                          float64\n",
      "Dual                        float64\n",
      "PostIssueShares             float64\n",
      "Internet                    float64\n",
      "CRSP permanent ID            object\n",
      "Founding             datetime64[ns]\n",
      "IPO Price                   float64\n",
      "Age at IPO                    int32\n",
      "dtype: object\n"
     ]
    }
   ],
   "source": [
    "print(merged_data.dtypes)"
   ]
  },
  {
   "cell_type": "code",
   "execution_count": 65,
   "id": "ae094314",
   "metadata": {
    "scrolled": true
   },
   "outputs": [
    {
     "name": "stdout",
     "output_type": "stream",
     "text": [
      "Date                      0\n",
      "Ticker                    0\n",
      "Adj Close                 0\n",
      "Close                     0\n",
      "High                      0\n",
      "Low                       0\n",
      "Open                      0\n",
      "Volume                    0\n",
      "Return_1d               318\n",
      "Return_1w              1603\n",
      "Return_1m              6755\n",
      "Return_3m             20283\n",
      "Return_6m             40632\n",
      "Return_1y             81330\n",
      "Offer date                0\n",
      "IPO name                  0\n",
      "CUSIP                     0\n",
      "Rollup                    0\n",
      "VC                        0\n",
      "Dual                      0\n",
      "PostIssueShares      175772\n",
      "Internet                  0\n",
      "CRSP permanent ID         0\n",
      "Founding                  0\n",
      "IPO Price                 0\n",
      "Age at IPO                0\n",
      "dtype: int64\n"
     ]
    }
   ],
   "source": [
    "print(merged_data.isnull().sum())"
   ]
  },
  {
   "cell_type": "code",
   "execution_count": 66,
   "id": "c7e9582d",
   "metadata": {},
   "outputs": [
    {
     "name": "stdout",
     "output_type": "stream",
     "text": [
      "                                Date      Adj Close          Close  \\\n",
      "count                         266493  266493.000000  266493.000000   \n",
      "mean   2021-09-26 05:19:19.905888768      32.921112      33.076552   \n",
      "min              2019-01-04 00:00:00       0.000010       0.000010   \n",
      "25%              2020-12-22 00:00:00       6.710000       6.830000   \n",
      "50%              2021-10-15 00:00:00      16.740000      17.049999   \n",
      "75%              2022-08-10 00:00:00      33.259998      33.369999   \n",
      "max              2023-06-06 00:00:00    4220.000000    4220.000000   \n",
      "std                              NaN      80.222517      80.208356   \n",
      "\n",
      "                High            Low           Open        Volume  \\\n",
      "count  266493.000000  266493.000000  266493.000000  2.664930e+05   \n",
      "mean       34.267947      32.008334      33.171136  1.455656e+06   \n",
      "min         0.000010       0.000010       0.000010  0.000000e+00   \n",
      "25%         7.120000       6.585000       6.860000  6.570000e+04   \n",
      "50%        17.600000      16.549999      17.084999  2.538000e+05   \n",
      "75%        34.450001      32.360001      33.430000  9.050000e+05   \n",
      "max      5800.000000    4166.000000    5800.000000  3.765591e+08   \n",
      "std        84.449898      77.290890      81.352511  5.657829e+06   \n",
      "\n",
      "           Return_1d      Return_1w      Return_1m  ...      Return_6m  \\\n",
      "count  266175.000000  264890.000000  259738.000000  ...  225861.000000   \n",
      "mean        0.000718       0.001400      -0.001451  ...      -0.037619   \n",
      "min        -0.972516      -0.986207      -0.987897  ...      -0.999644   \n",
      "25%        -0.025263      -0.061586      -0.143587  ...      -0.426932   \n",
      "50%        -0.000940      -0.005714      -0.024512  ...      -0.152560   \n",
      "75%         0.021978       0.047872       0.093731  ...       0.148485   \n",
      "max        53.000000      60.818180      57.981814  ...      82.527268   \n",
      "std         0.164837       0.279309       0.356005  ...       0.760951   \n",
      "\n",
      "           Return_1y                     Offer date             VC  \\\n",
      "count  185163.000000                         266493  266493.000000   \n",
      "mean       -0.071759  2020-01-19 02:15:47.750222336       0.644039   \n",
      "min        -0.999910            2019-01-04 00:00:00       0.000000   \n",
      "25%        -0.651442            2019-06-20 00:00:00       0.000000   \n",
      "50%        -0.303731            2020-01-17 00:00:00       1.000000   \n",
      "75%         0.120686            2020-08-21 00:00:00       1.000000   \n",
      "max        97.836363            2020-12-29 00:00:00       2.000000   \n",
      "std         1.138729                            NaN       0.577362   \n",
      "\n",
      "                Dual  PostIssueShares       Internet  \\\n",
      "count  266493.000000     9.072100e+04  266493.000000   \n",
      "mean        0.340425     4.180638e+08       0.164792   \n",
      "min         0.000000     2.010000e+06       0.000000   \n",
      "25%         0.000000     5.958824e+07       0.000000   \n",
      "50%         0.000000     1.515152e+08       0.000000   \n",
      "75%         1.000000     3.986000e+08       0.000000   \n",
      "max         1.000000     3.488438e+09       1.000000   \n",
      "std         0.473853     6.520006e+08       0.370994   \n",
      "\n",
      "                            Founding      IPO Price     Age at IPO  \n",
      "count                         266493  266493.000000  266493.000000  \n",
      "mean   2003-01-27 19:24:24.259098752      17.088723      16.429835  \n",
      "min              1841-01-01 00:00:00       4.000000       1.000000  \n",
      "25%              2003-01-01 00:00:00      12.000000       5.000000  \n",
      "50%              2010-01-01 00:00:00      16.000000      10.000000  \n",
      "75%              2014-01-01 00:00:00      19.000000      17.000000  \n",
      "max              2019-01-01 00:00:00     120.000000     179.000000  \n",
      "std                              NaN      10.609138      22.787192  \n",
      "\n",
      "[8 rows x 21 columns]\n"
     ]
    }
   ],
   "source": [
    "print(merged_data.describe())"
   ]
  },
  {
   "cell_type": "code",
   "execution_count": 67,
   "id": "ce1a82c9",
   "metadata": {},
   "outputs": [
    {
     "name": "stdout",
     "output_type": "stream",
     "text": [
      "Index(['Date', 'Ticker', 'Adj Close', 'Close', 'High', 'Low', 'Open', 'Volume',\n",
      "       'Return_1d', 'Return_1w', 'Return_1m', 'Return_3m', 'Return_6m',\n",
      "       'Return_1y', 'Offer date', 'IPO name', 'CUSIP', 'Rollup', 'VC', 'Dual',\n",
      "       'PostIssueShares', 'Internet', 'CRSP permanent ID', 'Founding',\n",
      "       'IPO Price', 'Age at IPO'],\n",
      "      dtype='object')\n"
     ]
    }
   ],
   "source": [
    "print(merged_data.columns)"
   ]
  },
  {
   "cell_type": "markdown",
   "id": "6eab63ef",
   "metadata": {},
   "source": [
    "### Calculating above-average returns\n",
    "We also want to find the excess return of each IPO over some benchmark, in this case we will use Nasdaq 100 index as benchmark.\n",
    "\n",
    "We can now calculate the excess returns by subtracting the NASDAQ returns from the IPO returns for each period"
   ]
  },
  {
   "cell_type": "code",
   "execution_count": 68,
   "id": "b24aecd3",
   "metadata": {},
   "outputs": [],
   "source": [
    "# Recall the dataframe for NASDAQ 100's return data\n",
    "\n",
    "nasdaq_return_data = price_data_stacked[price_data_stacked['Ticker'] == '^NDX'][['Date', 'Return_1d', 'Return_1w', 'Return_1m', 'Return_3m', 'Return_6m', 'Return_1y']]\n",
    "\n",
    "# Merge with merged_data\n",
    "merged_data = pd.merge(merged_data, nasdaq_return_data, on='Date', suffixes=('', '_ndx'))\n",
    "\n",
    "# Calculate excess returns\n",
    "merged_data['Excess_Return_1d'] = merged_data['Return_1d'] - merged_data['Return_1d_ndx']\n",
    "merged_data['Excess_Return_1w'] = merged_data['Return_1w'] - merged_data['Return_1w_ndx']\n",
    "merged_data['Excess_Return_1m'] = merged_data['Return_1m'] - merged_data['Return_1m_ndx']\n",
    "merged_data['Excess_Return_3m'] = merged_data['Return_3m'] - merged_data['Return_3m_ndx']\n",
    "merged_data['Excess_Return_6m'] = merged_data['Return_6m'] - merged_data['Return_6m_ndx']\n",
    "merged_data['Excess_Return_1y'] = merged_data['Return_1y'] - merged_data['Return_1y_ndx']\n"
   ]
  },
  {
   "cell_type": "code",
   "execution_count": 69,
   "id": "57b467c2",
   "metadata": {},
   "outputs": [
    {
     "name": "stdout",
     "output_type": "stream",
     "text": [
      "           Return_1d      Return_1w      Return_1m      Return_3m  \\\n",
      "count  266175.000000  264890.000000  259738.000000  246210.000000   \n",
      "mean        0.000718       0.001400      -0.001451      -0.013229   \n",
      "std         0.164837       0.279309       0.356005       0.572790   \n",
      "min        -0.972516      -0.986207      -0.987897      -0.990244   \n",
      "25%        -0.025263      -0.061586      -0.143587      -0.280869   \n",
      "50%        -0.000940      -0.005714      -0.024512      -0.078349   \n",
      "75%         0.021978       0.047872       0.093731       0.129888   \n",
      "max        53.000000      60.818180      57.981814      69.672724   \n",
      "\n",
      "       Excess_Return_1d  Excess_Return_3m  \n",
      "count     266175.000000     246210.000000  \n",
      "mean           0.000045         -0.043853  \n",
      "std            0.164101          0.556762  \n",
      "min           -0.986964         -1.148976  \n",
      "25%           -0.024536         -0.296232  \n",
      "50%           -0.002301         -0.106394  \n",
      "75%            0.019865          0.093969  \n",
      "max           52.993906         69.561937  \n"
     ]
    }
   ],
   "source": [
    "print(merged_data[['Return_1d', 'Return_1w', 'Return_1m', 'Return_3m', 'Excess_Return_1d', 'Excess_Return_3m']].describe())"
   ]
  },
  {
   "cell_type": "code",
   "execution_count": 70,
   "id": "c4f6af75",
   "metadata": {},
   "outputs": [
    {
     "name": "stdout",
     "output_type": "stream",
     "text": [
      "Index(['Date', 'Ticker', 'Adj Close', 'Close', 'High', 'Low', 'Open', 'Volume',\n",
      "       'Return_1d', 'Return_1w', 'Return_1m', 'Return_3m', 'Return_6m',\n",
      "       'Return_1y', 'Offer date', 'IPO name', 'CUSIP', 'Rollup', 'VC', 'Dual',\n",
      "       'PostIssueShares', 'Internet', 'CRSP permanent ID', 'Founding',\n",
      "       'IPO Price', 'Age at IPO', 'Return_1d_ndx', 'Return_1w_ndx',\n",
      "       'Return_1m_ndx', 'Return_3m_ndx', 'Return_6m_ndx', 'Return_1y_ndx',\n",
      "       'Excess_Return_1d', 'Excess_Return_1w', 'Excess_Return_1m',\n",
      "       'Excess_Return_3m', 'Excess_Return_6m', 'Excess_Return_1y'],\n",
      "      dtype='object')\n"
     ]
    }
   ],
   "source": [
    "print(merged_data.columns)"
   ]
  },
  {
   "cell_type": "code",
   "execution_count": 71,
   "id": "86e2d33f",
   "metadata": {
    "scrolled": true
   },
   "outputs": [
    {
     "name": "stdout",
     "output_type": "stream",
     "text": [
      "Return_1d           266175\n",
      "Return_1m           259738\n",
      "Excess_Return_1d    266175\n",
      "Excess_Return_3m    246210\n",
      "dtype: int64\n"
     ]
    }
   ],
   "source": [
    "non_nan_counts = merged_data[['Return_1d', 'Return_1m', 'Excess_Return_1d', 'Excess_Return_3m']].count()\n",
    "print(non_nan_counts)\n"
   ]
  },
  {
   "cell_type": "markdown",
   "id": "b941a692",
   "metadata": {},
   "source": [
    "Manual check if the returns are calculated correctly. \n",
    "\n",
    "Important that The \"manual\" method is calculating the simple return, which is suitable for single-period return calculations.\n",
    "\n",
    "The method used in the 'Return_1d' column from the DataFrame is calculating the compounded return, which is more appropriate for calculating returns over multiple periods."
   ]
  },
  {
   "cell_type": "code",
   "execution_count": 74,
   "id": "7593faa0",
   "metadata": {},
   "outputs": [],
   "source": [
    "date1 = pd.to_datetime('2021-09-30')\n",
    "date2 = pd.to_datetime('2022-03-23')\n"
   ]
  },
  {
   "cell_type": "code",
   "execution_count": 76,
   "id": "4969b382",
   "metadata": {},
   "outputs": [
    {
     "name": "stdout",
     "output_type": "stream",
     "text": [
      "Manually calculated return:  -0.3597721361937211\n",
      "DataFrame calculated return:  -0.37776831594922045\n"
     ]
    }
   ],
   "source": [
    "# Select rows for a specific ticker and set 'Date' as the index\n",
    "merged_data_ticker = merged_data[merged_data['Ticker'] == 'ALEC'].set_index('Date')\n",
    "\n",
    "# Fetch the prices at the two dates\n",
    "price1 = merged_data_ticker.loc[date1, 'Adj Close']\n",
    "price2 = merged_data_ticker.loc[date2, 'Adj Close']\n",
    "\n",
    "# Calculate the return\n",
    "manual_return = (price2 - price1) / price1\n",
    "print(\"Manually calculated return: \", manual_return)\n",
    "\n",
    "# Check the calculated return in our DataFrame\n",
    "# Fetch the daily returns for all dates between date1 and date2 (inclusive)\n",
    "daily_returns = merged_data_ticker.loc[date1:date2, 'Return_1d']\n",
    "\n",
    "# Calculate the overall return from the daily returns by compounding\n",
    "calculated_return = (daily_returns + 1).prod() - 1\n",
    "print(\"DataFrame calculated return: \", calculated_return)\n"
   ]
  },
  {
   "cell_type": "markdown",
   "id": "63876108",
   "metadata": {},
   "source": [
    "The NaN´s in the return and excess-return variables are expected since it is not possible to compute 3-month or 1-year returns until a sufficient amount of time has passed since the IPO.\n",
    "We will deal with `PostIssueShares` later, but we will probably drop it."
   ]
  },
  {
   "cell_type": "code",
   "execution_count": 80,
   "id": "43db8089",
   "metadata": {},
   "outputs": [
    {
     "name": "stdout",
     "output_type": "stream",
     "text": [
      "Date                      0\n",
      "Ticker                    0\n",
      "Adj Close                 0\n",
      "Close                     0\n",
      "High                      0\n",
      "Low                       0\n",
      "Open                      0\n",
      "Volume                    0\n",
      "Return_1d               318\n",
      "Return_1w              1603\n",
      "Return_1m              6755\n",
      "Return_3m             20283\n",
      "Return_6m             40632\n",
      "Return_1y             81330\n",
      "Offer date                0\n",
      "IPO name                  0\n",
      "CUSIP                     0\n",
      "Rollup                    0\n",
      "VC                        0\n",
      "Dual                      0\n",
      "PostIssueShares      175772\n",
      "Internet                  0\n",
      "CRSP permanent ID         0\n",
      "Founding                  0\n",
      "IPO Price                 0\n",
      "Age at IPO                0\n",
      "Return_1d_ndx             0\n",
      "Return_1w_ndx             4\n",
      "Return_1m_ndx            79\n",
      "Return_3m_ndx           652\n",
      "Return_6m_ndx          3671\n",
      "Return_1y_ndx         16645\n",
      "Excess_Return_1d        318\n",
      "Excess_Return_1w       1603\n",
      "Excess_Return_1m       6755\n",
      "Excess_Return_3m      20283\n",
      "Excess_Return_6m      40632\n",
      "Excess_Return_1y      81330\n",
      "dtype: int64\n"
     ]
    }
   ],
   "source": [
    "print(merged_data.isnull().sum())"
   ]
  },
  {
   "cell_type": "markdown",
   "id": "c2422a60",
   "metadata": {},
   "source": [
    "### Save DataFrame as a CSV file:"
   ]
  },
  {
   "cell_type": "code",
   "execution_count": 79,
   "id": "15ceef95",
   "metadata": {},
   "outputs": [],
   "source": [
    "merged_data.to_csv('merged_data.csv')"
   ]
  },
  {
   "cell_type": "markdown",
   "id": "ee60bfa2",
   "metadata": {},
   "source": [
    "Below, we have tried to download industry/sector data for our IPOs. Unfortunately the data is not available :("
   ]
  },
  {
   "cell_type": "code",
   "execution_count": null,
   "id": "3d888177",
   "metadata": {},
   "outputs": [],
   "source": [
    "# List of tickers\n",
    "tickers = merged_df['Ticker'].unique().tolist()\n",
    "\n",
    "# Initialize a dataframe to store the data\n",
    "data = pd.DataFrame(columns=[\"Ticker\", \"Industry\"])\n",
    "\n",
    "for ticker in tickers:\n",
    "    try:\n",
    "        info = yf.Ticker(ticker).info\n",
    "        industry = info['industry']\n",
    "        data = data.append({\"Ticker\": ticker, \"Industry\": industry}, ignore_index=True)\n",
    "    except:\n",
    "        pass\n",
    "\n",
    "print(data)"
   ]
  }
 ],
 "metadata": {
  "kernelspec": {
   "display_name": "Python 3 (ipykernel)",
   "language": "python",
   "name": "python3"
  },
  "language_info": {
   "codemirror_mode": {
    "name": "ipython",
    "version": 3
   },
   "file_extension": ".py",
   "mimetype": "text/x-python",
   "name": "python",
   "nbconvert_exporter": "python",
   "pygments_lexer": "ipython3",
   "version": "3.10.11"
  }
 },
 "nbformat": 4,
 "nbformat_minor": 5
}
